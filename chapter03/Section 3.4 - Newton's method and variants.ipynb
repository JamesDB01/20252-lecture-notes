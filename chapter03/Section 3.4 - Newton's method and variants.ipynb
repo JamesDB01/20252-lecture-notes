{
 "cells": [
  {
   "cell_type": "markdown",
   "metadata": {},
   "source": [
    "---\n",
    "\n",
    "# 3.4 Newton's method and variants\n",
    "---"
   ]
  },
  {
   "cell_type": "markdown",
   "metadata": {},
   "source": [
    "Let \n",
    "\n",
    "$$f \\in C^2[a,b].$$ \n",
    "\n",
    "That is, $f$ is a **twice-continuously differentiable** function over $[a,b]$, which means that the **first** and **second** derivatives of $f$ **exist** and are **continuous** on the open interval $(a,b)$. **Newton's method** is defined as:\n",
    "\n",
    "$$ x_{k+1} = x_k - \\frac{f(x_k)}{f'(x_k)}, \\quad k = 0, 1, 2, \\ldots.$$\n",
    "\n",
    "This is the fixed point iteration using the function $g(x) = x - f(x)\\big/f'(x)$.\n",
    "\n",
    "We have already seen above that this iteration can converge very fast. This is why Newton's method is one of the most popular methods for root finding."
   ]
  },
  {
   "cell_type": "markdown",
   "metadata": {},
   "source": [
    "## Formulating Newton's method\n",
    "\n",
    "Suppose that $f(x^*) = 0$ and that we are at the iterate $x_k$. By the **Taylor Series Theorem**, we have\n",
    "\n",
    "$$\n",
    "f(x^*) = f(x_k) + f'(x_k)(x^* - x_k) + \\frac{f''(\\xi)}{2}(x^* - x_k)^2,\n",
    "$$\n",
    "\n",
    "for some point $\\xi$ between $x^*$ and $x_k$. If $x_k$ is already fairly close to $x^*$, then $(x^* - x_k)^2$ will be very small, so we have\n",
    "\n",
    "$$0 \\approx f(x_k) + f'(x_k)(x^* - x_k).$$\n",
    "\n",
    "Solving for $x^*$, we obtain\n",
    "\n",
    "$$x^* \\approx x_k - \\frac{f(x_k)}{f'(x_k)}.$$\n",
    "\n",
    "Therefore, it makes sense to define our next iterate $x_{k+1}$ using this approximation."
   ]
  },
  {
   "cell_type": "markdown",
   "metadata": {},
   "source": [
    "## Another formulation\n",
    "\n",
    "Another way to obtain Newton's method is as follows. Consider the **first-order (linear) approximation** of $f$ around the point $x_k$:\n",
    "\n",
    "$$f(x) \\approx f(x_k) + f'(x_k)(x - x_k), \\quad \\text{for all $x \\approx x_k$}.$$\n",
    "\n",
    "Suppose that $x_k$ is close to $x^*$, and that $f(x^*) = 0$. Then\n",
    "\n",
    "$$f(x^*) \\approx f(x_k) + f'(x_k)(x^* - x_k),$$\n",
    "\n",
    "which implies that\n",
    "\n",
    "$$x^* \\approx x_k - \\frac{f(x_k)}{f'(x_k)}.$$\n",
    "\n",
    "Therefore, our next iterate should be \n",
    "\n",
    "$$x_{k+1} = x_k - \\frac{f(x_k)}{f'(x_k)}.$$"
   ]
  },
  {
   "cell_type": "markdown",
   "metadata": {},
   "source": [
    "---"
   ]
  },
  {
   "cell_type": "markdown",
   "metadata": {},
   "source": [
    "## An implementation of Newton's Method: `plotnewton`"
   ]
  },
  {
   "cell_type": "code",
   "execution_count": 1,
   "metadata": {},
   "outputs": [
    {
     "data": {
      "text/plain": [
       "plotnewton (generic function with 1 method)"
      ]
     },
     "execution_count": 1,
     "metadata": {},
     "output_type": "execute_result"
    }
   ],
   "source": [
    "using Plots, Printf\n",
    "\n",
    "function plotnewton(f, fp, x0, a, b; tol=1e-6, maxiter=10)\n",
    "    \n",
    "    plt = plot(f, a, b, color=:blue, label=:none)\n",
    "    hline!([0], color=:black, label=:none)\n",
    "    \n",
    "    k = 0\n",
    "    x = x0\n",
    "    fx = f(x)\n",
    "    xold, xnew = x, Inf\n",
    "    @printf \"%4s %22s %22s\\n\" \"k\" \"x\" \"f(x)\"\n",
    "    while abs(xnew - xold) > tol*(1 + abs(xold)) && k < maxiter\n",
    "        k += 1\n",
    "        xnew = x - fx/fp(x)\n",
    "        \n",
    "        # Plotting stuff\n",
    "        plot!([x, x], [0, fx], ls=:dot, c=:black, label=:none)\n",
    "        plot!([xnew, x], [0, fx], c=:red, label=:none)\n",
    "        scatter!([x], [fx], c=:blue, label=:none)\n",
    "        \n",
    "        xold = x\n",
    "        x = xnew\n",
    "        fx = f(x)\n",
    "        @printf \"%4d %22.15e %22.15e\\n\" k x fx\n",
    "    end\n",
    "    flush(stdout)\n",
    "    display(plt)\n",
    "    \n",
    "    return x\n",
    "    \n",
    "end"
   ]
  },
  {
   "cell_type": "markdown",
   "metadata": {},
   "source": [
    "---"
   ]
  },
  {
   "cell_type": "markdown",
   "metadata": {},
   "source": [
    "## Example\n",
    "\n",
    "Let's see how Newton's method works on $f(x) = \\sin(x)$."
   ]
  },
  {
   "cell_type": "code",
   "execution_count": 2,
   "metadata": {},
   "outputs": [
    {
     "name": "stdout",
     "output_type": "stream",
     "text": [
      "   k                      x                   f(x)\n",
      "   1  2.014152122633019e+00  9.033172056536738e-01\n",
      "   2  4.119918071227920e+00 -8.295634263450208e-01\n",
      "   3  2.634343474795136e+00  4.857746387905265e-01\n",
      "   4  3.190096225706494e+00 -4.848455613128709e-02\n",
      "   5  3.141554581317116e+00  3.807227266763950e-05\n",
      "   6  3.141592653589812e+00 -1.852928213378789e-14\n",
      "   7  3.141592653589793e+00  1.224646799147353e-16\n"
     ]
    },
    {
     "data": {
      "image/png": "[encoded data removed]",
      "image/svg+xml": [
       "<?xml version=\"1.0\" encoding=\"utf-8\"?>\n",
       "<svg xmlns=\"http://www.w3.org/2000/svg\" xmlns:xlink=\"http://www.w3.org/1999/xlink\" width=\"600\" height=\"400\" viewBox=\"0 0 2400 1600\">\n",
       "<defs>\n",
       "  <clipPath id=\"clip050\">\n",
       "    <rect x=\"0\" y=\"0\" width=\"2400\" height=\"1600\"/>\n",
       "  </clipPath>\n",
       "</defs>\n",
       "<path clip-path=\"url(#clip050)\" d=\"M0 1600 L2400 1600 L2400 8.88178e-14 L0 8.88178e-14  Z\" fill=\"#ffffff\" fill-rule=\"evenodd\" fill-opacity=\"1\"/>\n",
       "<defs>\n",
       "  <clipPath id=\"clip051\">\n",
       "    <rect x=\"480\" y=\"0\" width=\"1681\" height=\"1600\"/>\n",
       "  </clipPath>\n",
       "</defs>\n",
       "<path clip-path=\"url(#clip050)\" d=\"M193.936 1486.45 L2352.76 1486.45 L2352.76 47.2441 L193.936 47.2441  Z\" fill=\"#ffffff\" fill-rule=\"evenodd\" fill-opacity=\"1\"/>\n",
       "<defs>\n",
       "  <clipPath id=\"clip052\">\n",
       "    <rect x=\"193\" y=\"47\" width=\"2160\" height=\"1440\"/>\n",
       "  </clipPath>\n",
       "</defs>\n",
       "<polyline clip-path=\"url(#clip052)\" style=\"stroke:#000000; stroke-linecap:round; stroke-linejoin:round; stroke-width:2; stroke-opacity:0.1; fill:none\" points=\"255.035,1486.45 255.035,47.2441 \"/>\n",
       "<polyline clip-path=\"url(#clip052)\" style=\"stroke:#000000; stroke-linecap:round; stroke-linejoin:round; stroke-width:2; stroke-opacity:0.1; fill:none\" points=\"579.173,1486.45 579.173,47.2441 \"/>\n",
       "<polyline clip-path=\"url(#clip052)\" style=\"stroke:#000000; stroke-linecap:round; stroke-linejoin:round; stroke-width:2; stroke-opacity:0.1; fill:none\" points=\"903.312,1486.45 903.312,47.2441 \"/>\n",
       "<polyline clip-path=\"url(#clip052)\" style=\"stroke:#000000; stroke-linecap:round; stroke-linejoin:round; stroke-width:2; stroke-opacity:0.1; fill:none\" points=\"1227.45,1486.45 1227.45,47.2441 \"/>\n",
       "<polyline clip-path=\"url(#clip052)\" style=\"stroke:#000000; stroke-linecap:round; stroke-linejoin:round; stroke-width:2; stroke-opacity:0.1; fill:none\" points=\"1551.59,1486.45 1551.59,47.2441 \"/>\n",
       "<polyline clip-path=\"url(#clip052)\" style=\"stroke:#000000; stroke-linecap:round; stroke-linejoin:round; stroke-width:2; stroke-opacity:0.1; fill:none\" points=\"1875.73,1486.45 1875.73,47.2441 \"/>\n",
       "<polyline clip-path=\"url(#clip052)\" style=\"stroke:#000000; stroke-linecap:round; stroke-linejoin:round; stroke-width:2; stroke-opacity:0.1; fill:none\" points=\"2199.87,1486.45 2199.87,47.2441 \"/>\n",
       "<polyline clip-path=\"url(#clip052)\" style=\"stroke:#000000; stroke-linecap:round; stroke-linejoin:round; stroke-width:2; stroke-opacity:0.1; fill:none\" points=\"193.936,1445.78 2352.76,1445.78 \"/>\n",
       "<polyline clip-path=\"url(#clip052)\" style=\"stroke:#000000; stroke-linecap:round; stroke-linejoin:round; stroke-width:2; stroke-opacity:0.1; fill:none\" points=\"193.936,1106.33 2352.76,1106.33 \"/>\n",
       "<polyline clip-path=\"url(#clip052)\" style=\"stroke:#000000; stroke-linecap:round; stroke-linejoin:round; stroke-width:2; stroke-opacity:0.1; fill:none\" points=\"193.936,766.875 2352.76,766.875 \"/>\n",
       "<polyline clip-path=\"url(#clip052)\" style=\"stroke:#000000; stroke-linecap:round; stroke-linejoin:round; stroke-width:2; stroke-opacity:0.1; fill:none\" points=\"193.936,427.423 2352.76,427.423 \"/>\n",
       "<polyline clip-path=\"url(#clip052)\" style=\"stroke:#000000; stroke-linecap:round; stroke-linejoin:round; stroke-width:2; stroke-opacity:0.1; fill:none\" points=\"193.936,87.9718 2352.76,87.9718 \"/>\n",
       "<polyline clip-path=\"url(#clip050)\" style=\"stroke:#000000; stroke-linecap:round; stroke-linejoin:round; stroke-width:4; stroke-opacity:1; fill:none\" points=\"193.936,1486.45 2352.76,1486.45 \"/>\n",
       "<polyline clip-path=\"url(#clip050)\" style=\"stroke:#000000; stroke-linecap:round; stroke-linejoin:round; stroke-width:4; stroke-opacity:1; fill:none\" points=\"255.035,1486.45 255.035,1467.55 \"/>\n",
       "<polyline clip-path=\"url(#clip050)\" style=\"stroke:#000000; stroke-linecap:round; stroke-linejoin:round; stroke-width:4; stroke-opacity:1; fill:none\" points=\"579.173,1486.45 579.173,1467.55 \"/>\n",
       "<polyline clip-path=\"url(#clip050)\" style=\"stroke:#000000; stroke-linecap:round; stroke-linejoin:round; stroke-width:4; stroke-opacity:1; fill:none\" points=\"903.312,1486.45 903.312,1467.55 \"/>\n",
       "<polyline clip-path=\"url(#clip050)\" style=\"stroke:#000000; stroke-linecap:round; stroke-linejoin:round; stroke-width:4; stroke-opacity:1; fill:none\" points=\"1227.45,1486.45 1227.45,1467.55 \"/>\n",
       "<polyline clip-path=\"url(#clip050)\" style=\"stroke:#000000; stroke-linecap:round; stroke-linejoin:round; stroke-width:4; stroke-opacity:1; fill:none\" points=\"1551.59,1486.45 1551.59,1467.55 \"/>\n",
       "<polyline clip-path=\"url(#clip050)\" style=\"stroke:#000000; stroke-linecap:round; stroke-linejoin:round; stroke-width:4; stroke-opacity:1; fill:none\" points=\"1875.73,1486.45 1875.73,1467.55 \"/>\n",
       "<polyline clip-path=\"url(#clip050)\" style=\"stroke:#000000; stroke-linecap:round; stroke-linejoin:round; stroke-width:4; stroke-opacity:1; fill:none\" points=\"2199.87,1486.45 2199.87,1467.55 \"/>\n",
       "<path clip-path=\"url(#clip050)\" d=\"M255.035 1517.37 Q251.424 1517.37 249.595 1520.93 Q247.789 1524.47 247.789 1531.6 Q247.789 1538.71 249.595 1542.27 Q251.424 1545.82 255.035 1545.82 Q258.669 1545.82 260.474 1542.27 Q262.303 1538.71 262.303 1531.6 Q262.303 1524.47 260.474 1520.93 Q258.669 1517.37 255.035 1517.37 M255.035 1513.66 Q260.845 1513.66 263.9 1518.27 Q266.979 1522.85 266.979 1531.6 Q266.979 1540.33 263.9 1544.94 Q260.845 1549.52 255.035 1549.52 Q249.225 1549.52 246.146 1544.94 Q243.09 1540.33 243.09 1531.6 Q243.09 1522.85 246.146 1518.27 Q249.225 1513.66 255.035 1513.66 Z\" fill=\"#000000\" fill-rule=\"nonzero\" fill-opacity=\"1\" /><path clip-path=\"url(#clip050)\" d=\"M569.555 1544.91 L577.194 1544.91 L577.194 1518.55 L568.884 1520.21 L568.884 1515.95 L577.148 1514.29 L581.824 1514.29 L581.824 1544.91 L589.463 1544.91 L589.463 1548.85 L569.555 1548.85 L569.555 1544.91 Z\" fill=\"#000000\" fill-rule=\"nonzero\" fill-opacity=\"1\" /><path clip-path=\"url(#clip050)\" d=\"M897.965 1544.91 L914.284 1544.91 L914.284 1548.85 L892.34 1548.85 L892.34 1544.91 Q895.002 1542.16 899.585 1537.53 Q904.191 1532.88 905.372 1531.53 Q907.617 1529.01 908.497 1527.27 Q909.4 1525.51 909.4 1523.82 Q909.4 1521.07 907.455 1519.33 Q905.534 1517.6 902.432 1517.6 Q900.233 1517.6 897.779 1518.36 Q895.349 1519.13 892.571 1520.68 L892.571 1515.95 Q895.395 1514.82 897.849 1514.24 Q900.303 1513.66 902.34 1513.66 Q907.71 1513.66 910.904 1516.35 Q914.099 1519.03 914.099 1523.52 Q914.099 1525.65 913.289 1527.57 Q912.502 1529.47 910.395 1532.07 Q909.816 1532.74 906.715 1535.95 Q903.613 1539.15 897.965 1544.91 Z\" fill=\"#000000\" fill-rule=\"nonzero\" fill-opacity=\"1\" /><path clip-path=\"url(#clip050)\" d=\"M1231.7 1530.21 Q1235.05 1530.93 1236.93 1533.2 Q1238.83 1535.47 1238.83 1538.8 Q1238.83 1543.92 1235.31 1546.72 Q1231.79 1549.52 1225.31 1549.52 Q1223.13 1549.52 1220.82 1549.08 Q1218.53 1548.66 1216.07 1547.81 L1216.07 1543.29 Q1218.02 1544.43 1220.33 1545.01 Q1222.65 1545.58 1225.17 1545.58 Q1229.57 1545.58 1231.86 1543.85 Q1234.17 1542.11 1234.17 1538.8 Q1234.17 1535.75 1232.02 1534.03 Q1229.89 1532.3 1226.07 1532.3 L1222.05 1532.3 L1222.05 1528.45 L1226.26 1528.45 Q1229.71 1528.45 1231.54 1527.09 Q1233.36 1525.7 1233.36 1523.11 Q1233.36 1520.45 1231.47 1519.03 Q1229.59 1517.6 1226.07 1517.6 Q1224.15 1517.6 1221.95 1518.01 Q1219.75 1518.43 1217.11 1519.31 L1217.11 1515.14 Q1219.78 1514.4 1222.09 1514.03 Q1224.43 1513.66 1226.49 1513.66 Q1231.81 1513.66 1234.92 1516.09 Q1238.02 1518.5 1238.02 1522.62 Q1238.02 1525.49 1236.37 1527.48 Q1234.73 1529.45 1231.7 1530.21 Z\" fill=\"#000000\" fill-rule=\"nonzero\" fill-opacity=\"1\" /><path clip-path=\"url(#clip050)\" d=\"M1554.6 1518.36 L1542.79 1536.81 L1554.6 1536.81 L1554.6 1518.36 M1553.37 1514.29 L1559.25 1514.29 L1559.25 1536.81 L1564.18 1536.81 L1564.18 1540.7 L1559.25 1540.7 L1559.25 1548.85 L1554.6 1548.85 L1554.6 1540.7 L1539 1540.7 L1539 1536.19 L1553.37 1514.29 Z\" fill=\"#000000\" fill-rule=\"nonzero\" fill-opacity=\"1\" /><path clip-path=\"url(#clip050)\" d=\"M1866.01 1514.29 L1884.36 1514.29 L1884.36 1518.22 L1870.29 1518.22 L1870.29 1526.7 Q1871.31 1526.35 1872.32 1526.19 Q1873.34 1526 1874.36 1526 Q1880.15 1526 1883.53 1529.17 Q1886.91 1532.34 1886.91 1537.76 Q1886.91 1543.34 1883.44 1546.44 Q1879.96 1549.52 1873.64 1549.52 Q1871.47 1549.52 1869.2 1549.15 Q1866.95 1548.78 1864.55 1548.04 L1864.55 1543.34 Q1866.63 1544.47 1868.85 1545.03 Q1871.07 1545.58 1873.55 1545.58 Q1877.56 1545.58 1879.89 1543.48 Q1882.23 1541.37 1882.23 1537.76 Q1882.23 1534.15 1879.89 1532.04 Q1877.56 1529.94 1873.55 1529.94 Q1871.68 1529.94 1869.8 1530.35 Q1867.95 1530.77 1866.01 1531.65 L1866.01 1514.29 Z\" fill=\"#000000\" fill-rule=\"nonzero\" fill-opacity=\"1\" /><path clip-path=\"url(#clip050)\" d=\"M2200.27 1529.7 Q2197.12 1529.7 2195.27 1531.86 Q2193.44 1534.01 2193.44 1537.76 Q2193.44 1541.49 2195.27 1543.66 Q2197.12 1545.82 2200.27 1545.82 Q2203.42 1545.82 2205.25 1543.66 Q2207.1 1541.49 2207.1 1537.76 Q2207.1 1534.01 2205.25 1531.86 Q2203.42 1529.7 2200.27 1529.7 M2209.55 1515.05 L2209.55 1519.31 Q2207.79 1518.48 2205.99 1518.04 Q2204.21 1517.6 2202.45 1517.6 Q2197.82 1517.6 2195.36 1520.72 Q2192.93 1523.85 2192.59 1530.17 Q2193.95 1528.15 2196.01 1527.09 Q2198.07 1526 2200.55 1526 Q2205.76 1526 2208.77 1529.17 Q2211.8 1532.32 2211.8 1537.76 Q2211.8 1543.08 2208.65 1546.3 Q2205.5 1549.52 2200.27 1549.52 Q2194.28 1549.52 2191.1 1544.94 Q2187.93 1540.33 2187.93 1531.6 Q2187.93 1523.41 2191.82 1518.55 Q2195.71 1513.66 2202.26 1513.66 Q2204.02 1513.66 2205.8 1514.01 Q2207.61 1514.36 2209.55 1515.05 Z\" fill=\"#000000\" fill-rule=\"nonzero\" fill-opacity=\"1\" /><polyline clip-path=\"url(#clip050)\" style=\"stroke:#000000; stroke-linecap:round; stroke-linejoin:round; stroke-width:4; stroke-opacity:1; fill:none\" points=\"193.936,1486.45 193.936,47.2441 \"/>\n",
       "<polyline clip-path=\"url(#clip050)\" style=\"stroke:#000000; stroke-linecap:round; stroke-linejoin:round; stroke-width:4; stroke-opacity:1; fill:none\" points=\"193.936,1445.78 212.834,1445.78 \"/>\n",
       "<polyline clip-path=\"url(#clip050)\" style=\"stroke:#000000; stroke-linecap:round; stroke-linejoin:round; stroke-width:4; stroke-opacity:1; fill:none\" points=\"193.936,1106.33 212.834,1106.33 \"/>\n",
       "<polyline clip-path=\"url(#clip050)\" style=\"stroke:#000000; stroke-linecap:round; stroke-linejoin:round; stroke-width:4; stroke-opacity:1; fill:none\" points=\"193.936,766.875 212.834,766.875 \"/>\n",
       "<polyline clip-path=\"url(#clip050)\" style=\"stroke:#000000; stroke-linecap:round; stroke-linejoin:round; stroke-width:4; stroke-opacity:1; fill:none\" points=\"193.936,427.423 212.834,427.423 \"/>\n",
       "<polyline clip-path=\"url(#clip050)\" style=\"stroke:#000000; stroke-linecap:round; stroke-linejoin:round; stroke-width:4; stroke-opacity:1; fill:none\" points=\"193.936,87.9718 212.834,87.9718 \"/>\n",
       "<path clip-path=\"url(#clip050)\" d=\"M50.9921 1446.23 L80.6679 1446.23 L80.6679 1450.16 L50.9921 1450.16 L50.9921 1446.23 Z\" fill=\"#000000\" fill-rule=\"nonzero\" fill-opacity=\"1\" /><path clip-path=\"url(#clip050)\" d=\"M91.5706 1459.12 L99.2095 1459.12 L99.2095 1432.76 L90.8993 1434.42 L90.8993 1430.16 L99.1632 1428.5 L103.839 1428.5 L103.839 1459.12 L111.478 1459.12 L111.478 1463.06 L91.5706 1463.06 L91.5706 1459.12 Z\" fill=\"#000000\" fill-rule=\"nonzero\" fill-opacity=\"1\" /><path clip-path=\"url(#clip050)\" d=\"M120.922 1457.18 L125.807 1457.18 L125.807 1463.06 L120.922 1463.06 L120.922 1457.18 Z\" fill=\"#000000\" fill-rule=\"nonzero\" fill-opacity=\"1\" /><path clip-path=\"url(#clip050)\" d=\"M145.992 1431.58 Q142.381 1431.58 140.552 1435.14 Q138.746 1438.68 138.746 1445.81 Q138.746 1452.92 140.552 1456.48 Q142.381 1460.03 145.992 1460.03 Q149.626 1460.03 151.431 1456.48 Q153.26 1452.92 153.26 1445.81 Q153.26 1438.68 151.431 1435.14 Q149.626 1431.58 145.992 1431.58 M145.992 1427.87 Q151.802 1427.87 154.857 1432.48 Q157.936 1437.06 157.936 1445.81 Q157.936 1454.54 154.857 1459.15 Q151.802 1463.73 145.992 1463.73 Q140.181 1463.73 137.103 1459.15 Q134.047 1454.54 134.047 1445.81 Q134.047 1437.06 137.103 1432.48 Q140.181 1427.87 145.992 1427.87 Z\" fill=\"#000000\" fill-rule=\"nonzero\" fill-opacity=\"1\" /><path clip-path=\"url(#clip050)\" d=\"M51.9875 1106.78 L81.6633 1106.78 L81.6633 1110.71 L51.9875 1110.71 L51.9875 1106.78 Z\" fill=\"#000000\" fill-rule=\"nonzero\" fill-opacity=\"1\" /><path clip-path=\"url(#clip050)\" d=\"M101.756 1092.13 Q98.1447 1092.13 96.316 1095.69 Q94.5104 1099.23 94.5104 1106.36 Q94.5104 1113.47 96.316 1117.03 Q98.1447 1120.57 101.756 1120.57 Q105.39 1120.57 107.196 1117.03 Q109.024 1113.47 109.024 1106.36 Q109.024 1099.23 107.196 1095.69 Q105.39 1092.13 101.756 1092.13 M101.756 1088.42 Q107.566 1088.42 110.621 1093.03 Q113.7 1097.61 113.7 1106.36 Q113.7 1115.09 110.621 1119.69 Q107.566 1124.28 101.756 1124.28 Q95.9456 1124.28 92.8669 1119.69 Q89.8114 1115.09 89.8114 1106.36 Q89.8114 1097.61 92.8669 1093.03 Q95.9456 1088.42 101.756 1088.42 Z\" fill=\"#000000\" fill-rule=\"nonzero\" fill-opacity=\"1\" /><path clip-path=\"url(#clip050)\" d=\"M121.918 1117.73 L126.802 1117.73 L126.802 1123.61 L121.918 1123.61 L121.918 1117.73 Z\" fill=\"#000000\" fill-rule=\"nonzero\" fill-opacity=\"1\" /><path clip-path=\"url(#clip050)\" d=\"M137.033 1089.05 L155.39 1089.05 L155.39 1092.98 L141.316 1092.98 L141.316 1101.45 Q142.334 1101.11 143.353 1100.94 Q144.371 1100.76 145.39 1100.76 Q151.177 1100.76 154.556 1103.93 Q157.936 1107.1 157.936 1112.52 Q157.936 1118.1 154.464 1121.2 Q150.992 1124.28 144.672 1124.28 Q142.496 1124.28 140.228 1123.91 Q137.982 1123.54 135.575 1122.8 L135.575 1118.1 Q137.658 1119.23 139.881 1119.79 Q142.103 1120.34 144.58 1120.34 Q148.584 1120.34 150.922 1118.24 Q153.26 1116.13 153.26 1112.52 Q153.26 1108.91 150.922 1106.8 Q148.584 1104.69 144.58 1104.69 Q142.705 1104.69 140.83 1105.11 Q138.978 1105.53 137.033 1106.41 L137.033 1089.05 Z\" fill=\"#000000\" fill-rule=\"nonzero\" fill-opacity=\"1\" /><path clip-path=\"url(#clip050)\" d=\"M100.76 752.674 Q97.1493 752.674 95.3206 756.239 Q93.515 759.78 93.515 766.91 Q93.515 774.016 95.3206 777.581 Q97.1493 781.123 100.76 781.123 Q104.395 781.123 106.2 777.581 Q108.029 774.016 108.029 766.91 Q108.029 759.78 106.2 756.239 Q104.395 752.674 100.76 752.674 M100.76 748.97 Q106.571 748.97 109.626 753.576 Q112.705 758.16 112.705 766.91 Q112.705 775.637 109.626 780.243 Q106.571 784.826 100.76 784.826 Q94.9502 784.826 91.8715 780.243 Q88.816 775.637 88.816 766.91 Q88.816 758.16 91.8715 753.576 Q94.9502 748.97 100.76 748.97 Z\" fill=\"#000000\" fill-rule=\"nonzero\" fill-opacity=\"1\" /><path clip-path=\"url(#clip050)\" d=\"M120.922 778.275 L125.807 778.275 L125.807 784.155 L120.922 784.155 L120.922 778.275 Z\" fill=\"#000000\" fill-rule=\"nonzero\" fill-opacity=\"1\" /><path clip-path=\"url(#clip050)\" d=\"M145.992 752.674 Q142.381 752.674 140.552 756.239 Q138.746 759.78 138.746 766.91 Q138.746 774.016 140.552 777.581 Q142.381 781.123 145.992 781.123 Q149.626 781.123 151.431 777.581 Q153.26 774.016 153.26 766.91 Q153.26 759.78 151.431 756.239 Q149.626 752.674 145.992 752.674 M145.992 748.97 Q151.802 748.97 154.857 753.576 Q157.936 758.16 157.936 766.91 Q157.936 775.637 154.857 780.243 Q151.802 784.826 145.992 784.826 Q140.181 784.826 137.103 780.243 Q134.047 775.637 134.047 766.91 Q134.047 758.16 137.103 753.576 Q140.181 748.97 145.992 748.97 Z\" fill=\"#000000\" fill-rule=\"nonzero\" fill-opacity=\"1\" /><path clip-path=\"url(#clip050)\" d=\"M101.756 413.222 Q98.1447 413.222 96.316 416.787 Q94.5104 420.329 94.5104 427.458 Q94.5104 434.565 96.316 438.129 Q98.1447 441.671 101.756 441.671 Q105.39 441.671 107.196 438.129 Q109.024 434.565 109.024 427.458 Q109.024 420.329 107.196 416.787 Q105.39 413.222 101.756 413.222 M101.756 409.518 Q107.566 409.518 110.621 414.125 Q113.7 418.708 113.7 427.458 Q113.7 436.185 110.621 440.791 Q107.566 445.375 101.756 445.375 Q95.9456 445.375 92.8669 440.791 Q89.8114 436.185 89.8114 427.458 Q89.8114 418.708 92.8669 414.125 Q95.9456 409.518 101.756 409.518 Z\" fill=\"#000000\" fill-rule=\"nonzero\" fill-opacity=\"1\" /><path clip-path=\"url(#clip050)\" d=\"M121.918 438.824 L126.802 438.824 L126.802 444.703 L121.918 444.703 L121.918 438.824 Z\" fill=\"#000000\" fill-rule=\"nonzero\" fill-opacity=\"1\" /><path clip-path=\"url(#clip050)\" d=\"M137.033 410.143 L155.39 410.143 L155.39 414.079 L141.316 414.079 L141.316 422.551 Q142.334 422.204 143.353 422.041 Q144.371 421.856 145.39 421.856 Q151.177 421.856 154.556 425.028 Q157.936 428.199 157.936 433.616 Q157.936 439.194 154.464 442.296 Q150.992 445.375 144.672 445.375 Q142.496 445.375 140.228 445.004 Q137.982 444.634 135.575 443.893 L135.575 439.194 Q137.658 440.328 139.881 440.884 Q142.103 441.44 144.58 441.44 Q148.584 441.44 150.922 439.333 Q153.26 437.227 153.26 433.616 Q153.26 430.004 150.922 427.898 Q148.584 425.791 144.58 425.791 Q142.705 425.791 140.83 426.208 Q138.978 426.625 137.033 427.504 L137.033 410.143 Z\" fill=\"#000000\" fill-rule=\"nonzero\" fill-opacity=\"1\" /><path clip-path=\"url(#clip050)\" d=\"M91.5706 101.317 L99.2095 101.317 L99.2095 74.951 L90.8993 76.6177 L90.8993 72.3584 L99.1632 70.6918 L103.839 70.6918 L103.839 101.317 L111.478 101.317 L111.478 105.252 L91.5706 105.252 L91.5706 101.317 Z\" fill=\"#000000\" fill-rule=\"nonzero\" fill-opacity=\"1\" /><path clip-path=\"url(#clip050)\" d=\"M120.922 99.3722 L125.807 99.3722 L125.807 105.252 L120.922 105.252 L120.922 99.3722 Z\" fill=\"#000000\" fill-rule=\"nonzero\" fill-opacity=\"1\" /><path clip-path=\"url(#clip050)\" d=\"M145.992 73.7705 Q142.381 73.7705 140.552 77.3353 Q138.746 80.8769 138.746 88.0065 Q138.746 95.113 140.552 98.6778 Q142.381 102.219 145.992 102.219 Q149.626 102.219 151.431 98.6778 Q153.26 95.113 153.26 88.0065 Q153.26 80.8769 151.431 77.3353 Q149.626 73.7705 145.992 73.7705 M145.992 70.0668 Q151.802 70.0668 154.857 74.6732 Q157.936 79.2566 157.936 88.0065 Q157.936 96.7333 154.857 101.34 Q151.802 105.923 145.992 105.923 Q140.181 105.923 137.103 101.34 Q134.047 96.7333 134.047 88.0065 Q134.047 79.2566 137.103 74.6732 Q140.181 70.0668 145.992 70.0668 Z\" fill=\"#000000\" fill-rule=\"nonzero\" fill-opacity=\"1\" /><polyline clip-path=\"url(#clip052)\" style=\"stroke:#0000ff; stroke-linecap:round; stroke-linejoin:round; stroke-width:4; stroke-opacity:1; fill:none\" points=\"255.035,766.875 260.291,755.866 265.547,744.86 270.804,733.86 276.06,722.868 306.846,658.818 337.632,595.742 368.418,534.208 399.205,474.771 427.848,421.826 456.491,371.572 475.688,339.597 494.884,309.119 514.081,280.247 533.277,253.08 549.139,231.988 565.001,212.176 580.863,193.693 596.726,176.582 611.476,161.937 626.226,148.545 640.976,136.434 655.726,125.627 674.243,113.944 692.76,104.39 711.276,96.9978 729.793,91.7909 746.402,88.9938 763.012,87.9763 779.621,88.741 796.231,91.2859 815.243,96.3751 834.254,103.77 853.266,113.446 872.278,125.369 886.489,135.725 900.701,147.294 914.912,160.054 929.123,173.98 947.3,193.449 965.476,214.72 983.653,237.727 1001.83,262.398 1018.42,286.302 1035.01,311.464 1051.6,337.818 1068.19,365.297 1087.07,397.846 1105.95,431.647 1124.83,466.586 1143.71,502.543 1173.65,561.338 1203.58,621.886 1277.97,776.55 1334.93,895.086 1375.09,976.484 1415.24,1054.67 1445.25,1110.28 1475.26,1162.95 1492.32,1191.41 1509.38,1218.7 1526.44,1244.74 1543.51,1269.45 1560.4,1292.55 1577.3,1314.22 1594.2,1334.41 1611.1,1353.05 1629.69,1371.72 1648.28,1388.4 1666.87,1403.04 1685.46,1415.58 1699.66,1423.73 1713.86,1430.61 1728.06,1436.23 1742.26,1440.55 1760.18,1444.17 1778.1,1445.72 1796.02,1445.19 1813.94,1442.59 1830.51,1438.34 1847.09,1432.35 1863.66,1424.61 1880.23,1415.15 1897.33,1403.62 1914.42,1390.33 1931.51,1375.3 1948.6,1358.57 1965.93,1339.94 1983.25,1319.68 2000.58,1297.83 2017.91,1274.47 2036,1248.53 2054.09,1221.09 2072.18,1192.24 2090.27,1162.06 2118.77,1112.05 2147.27,1059.38 2179.73,996.676 2212.18,931.669 2244.64,865.012 2277.09,797.371 2280.73,789.75 2284.37,782.127 2288.02,774.501 2291.66,766.875 \"/>\n",
       "<polyline clip-path=\"url(#clip052)\" style=\"stroke:#000000; stroke-linecap:round; stroke-linejoin:round; stroke-width:4; stroke-opacity:1; fill:none\" points=\"-1964.88,766.875 4511.58,766.875 \"/>\n",
       "<polyline clip-path=\"url(#clip052)\" style=\"stroke:#000000; stroke-linecap:round; stroke-linejoin:round; stroke-width:4; stroke-opacity:1; fill:none\" stroke-dasharray=\"2, 4\" points=\"1648.83,766.875 1648.83,1388.86 \"/>\n",
       "<polyline clip-path=\"url(#clip052)\" style=\"stroke:#ff0000; stroke-linecap:round; stroke-linejoin:round; stroke-width:4; stroke-opacity:1; fill:none\" points=\"907.899,766.875 1648.83,1388.86 \"/>\n",
       "<circle clip-path=\"url(#clip052)\" cx=\"1648.83\" cy=\"1388.86\" r=\"14.4\" fill=\"#0000ff\" fill-rule=\"evenodd\" fill-opacity=\"1\" stroke=\"#000000\" stroke-opacity=\"1\" stroke-width=\"3.2\"/>\n",
       "<polyline clip-path=\"url(#clip052)\" style=\"stroke:#000000; stroke-linecap:round; stroke-linejoin:round; stroke-width:4; stroke-opacity:1; fill:none\" stroke-dasharray=\"2, 4\" points=\"907.899,766.875 907.899,153.61 \"/>\n",
       "<polyline clip-path=\"url(#clip052)\" style=\"stroke:#ff0000; stroke-linecap:round; stroke-linejoin:round; stroke-width:4; stroke-opacity:1; fill:none\" points=\"1590.46,766.875 907.899,153.61 \"/>\n",
       "<circle clip-path=\"url(#clip052)\" cx=\"907.899\" cy=\"153.61\" r=\"14.4\" fill=\"#0000ff\" fill-rule=\"evenodd\" fill-opacity=\"1\" stroke=\"#000000\" stroke-opacity=\"1\" stroke-width=\"3.2\"/>\n",
       "<polyline clip-path=\"url(#clip052)\" style=\"stroke:#000000; stroke-linecap:round; stroke-linejoin:round; stroke-width:4; stroke-opacity:1; fill:none\" stroke-dasharray=\"2, 4\" points=\"1590.46,766.875 1590.46,1330.07 \"/>\n",
       "<polyline clip-path=\"url(#clip052)\" style=\"stroke:#ff0000; stroke-linecap:round; stroke-linejoin:round; stroke-width:4; stroke-opacity:1; fill:none\" points=\"1108.93,766.875 1590.46,1330.07 \"/>\n",
       "<circle clip-path=\"url(#clip052)\" cx=\"1590.46\" cy=\"1330.07\" r=\"14.4\" fill=\"#0000ff\" fill-rule=\"evenodd\" fill-opacity=\"1\" stroke=\"#000000\" stroke-opacity=\"1\" stroke-width=\"3.2\"/>\n",
       "<polyline clip-path=\"url(#clip052)\" style=\"stroke:#000000; stroke-linecap:round; stroke-linejoin:round; stroke-width:4; stroke-opacity:1; fill:none\" stroke-dasharray=\"2, 4\" points=\"1108.93,766.875 1108.93,437.081 \"/>\n",
       "<polyline clip-path=\"url(#clip052)\" style=\"stroke:#ff0000; stroke-linecap:round; stroke-linejoin:round; stroke-width:4; stroke-opacity:1; fill:none\" points=\"1289.07,766.875 1108.93,437.081 \"/>\n",
       "<circle clip-path=\"url(#clip052)\" cx=\"1108.93\" cy=\"437.081\" r=\"14.4\" fill=\"#0000ff\" fill-rule=\"evenodd\" fill-opacity=\"1\" stroke=\"#000000\" stroke-opacity=\"1\" stroke-width=\"3.2\"/>\n",
       "<polyline clip-path=\"url(#clip052)\" style=\"stroke:#000000; stroke-linecap:round; stroke-linejoin:round; stroke-width:4; stroke-opacity:1; fill:none\" stroke-dasharray=\"2, 4\" points=\"1289.07,766.875 1289.07,799.791 \"/>\n",
       "<polyline clip-path=\"url(#clip052)\" style=\"stroke:#ff0000; stroke-linecap:round; stroke-linejoin:round; stroke-width:4; stroke-opacity:1; fill:none\" points=\"1273.33,766.875 1289.07,799.791 \"/>\n",
       "<circle clip-path=\"url(#clip052)\" cx=\"1289.07\" cy=\"799.791\" r=\"14.4\" fill=\"#0000ff\" fill-rule=\"evenodd\" fill-opacity=\"1\" stroke=\"#000000\" stroke-opacity=\"1\" stroke-width=\"3.2\"/>\n",
       "<polyline clip-path=\"url(#clip052)\" style=\"stroke:#000000; stroke-linecap:round; stroke-linejoin:round; stroke-width:4; stroke-opacity:1; fill:none\" stroke-dasharray=\"2, 4\" points=\"1273.33,766.875 1273.33,766.849 \"/>\n",
       "<polyline clip-path=\"url(#clip052)\" style=\"stroke:#ff0000; stroke-linecap:round; stroke-linejoin:round; stroke-width:4; stroke-opacity:1; fill:none\" points=\"1273.35,766.875 1273.33,766.849 \"/>\n",
       "<circle clip-path=\"url(#clip052)\" cx=\"1273.33\" cy=\"766.849\" r=\"14.4\" fill=\"#0000ff\" fill-rule=\"evenodd\" fill-opacity=\"1\" stroke=\"#000000\" stroke-opacity=\"1\" stroke-width=\"3.2\"/>\n",
       "<polyline clip-path=\"url(#clip052)\" style=\"stroke:#000000; stroke-linecap:round; stroke-linejoin:round; stroke-width:4; stroke-opacity:1; fill:none\" stroke-dasharray=\"2, 4\" points=\"1273.35,766.875 1273.35,766.875 \"/>\n",
       "<polyline clip-path=\"url(#clip052)\" style=\"stroke:#ff0000; stroke-linecap:round; stroke-linejoin:round; stroke-width:4; stroke-opacity:1; fill:none\" points=\"1273.35,766.875 1273.35,766.875 \"/>\n",
       "<circle clip-path=\"url(#clip052)\" cx=\"1273.35\" cy=\"766.875\" r=\"14.4\" fill=\"#0000ff\" fill-rule=\"evenodd\" fill-opacity=\"1\" stroke=\"#000000\" stroke-opacity=\"1\" stroke-width=\"3.2\"/>\n",
       "</svg>\n"
      ],
      "text/html": [
       "<?xml version=\"1.0\" encoding=\"utf-8\"?>\n",
       "<svg xmlns=\"http://www.w3.org/2000/svg\" xmlns:xlink=\"http://www.w3.org/1999/xlink\" width=\"600\" height=\"400\" viewBox=\"0 0 2400 1600\">\n",
       "<defs>\n",
       "  <clipPath id=\"clip100\">\n",
       "    <rect x=\"0\" y=\"0\" width=\"2400\" height=\"1600\"/>\n",
       "  </clipPath>\n",
       "</defs>\n",
       "<path clip-path=\"url(#clip100)\" d=\"M0 1600 L2400 1600 L2400 8.88178e-14 L0 8.88178e-14  Z\" fill=\"#ffffff\" fill-rule=\"evenodd\" fill-opacity=\"1\"/>\n",
       "<defs>\n",
       "  <clipPath id=\"clip101\">\n",
       "    <rect x=\"480\" y=\"0\" width=\"1681\" height=\"1600\"/>\n",
       "  </clipPath>\n",
       "</defs>\n",
       "<path clip-path=\"url(#clip100)\" d=\"M193.936 1486.45 L2352.76 1486.45 L2352.76 47.2441 L193.936 47.2441  Z\" fill=\"#ffffff\" fill-rule=\"evenodd\" fill-opacity=\"1\"/>\n",
       "<defs>\n",
       "  <clipPath id=\"clip102\">\n",
       "    <rect x=\"193\" y=\"47\" width=\"2160\" height=\"1440\"/>\n",
       "  </clipPath>\n",
       "</defs>\n",
       "<polyline clip-path=\"url(#clip102)\" style=\"stroke:#000000; stroke-linecap:round; stroke-linejoin:round; stroke-width:2; stroke-opacity:0.1; fill:none\" points=\"255.035,1486.45 255.035,47.2441 \"/>\n",
       "<polyline clip-path=\"url(#clip102)\" style=\"stroke:#000000; stroke-linecap:round; stroke-linejoin:round; stroke-width:2; stroke-opacity:0.1; fill:none\" points=\"579.173,1486.45 579.173,47.2441 \"/>\n",
       "<polyline clip-path=\"url(#clip102)\" style=\"stroke:#000000; stroke-linecap:round; stroke-linejoin:round; stroke-width:2; stroke-opacity:0.1; fill:none\" points=\"903.312,1486.45 903.312,47.2441 \"/>\n",
       "<polyline clip-path=\"url(#clip102)\" style=\"stroke:#000000; stroke-linecap:round; stroke-linejoin:round; stroke-width:2; stroke-opacity:0.1; fill:none\" points=\"1227.45,1486.45 1227.45,47.2441 \"/>\n",
       "<polyline clip-path=\"url(#clip102)\" style=\"stroke:#000000; stroke-linecap:round; stroke-linejoin:round; stroke-width:2; stroke-opacity:0.1; fill:none\" points=\"1551.59,1486.45 1551.59,47.2441 \"/>\n",
       "<polyline clip-path=\"url(#clip102)\" style=\"stroke:#000000; stroke-linecap:round; stroke-linejoin:round; stroke-width:2; stroke-opacity:0.1; fill:none\" points=\"1875.73,1486.45 1875.73,47.2441 \"/>\n",
       "<polyline clip-path=\"url(#clip102)\" style=\"stroke:#000000; stroke-linecap:round; stroke-linejoin:round; stroke-width:2; stroke-opacity:0.1; fill:none\" points=\"2199.87,1486.45 2199.87,47.2441 \"/>\n",
       "<polyline clip-path=\"url(#clip102)\" style=\"stroke:#000000; stroke-linecap:round; stroke-linejoin:round; stroke-width:2; stroke-opacity:0.1; fill:none\" points=\"193.936,1445.78 2352.76,1445.78 \"/>\n",
       "<polyline clip-path=\"url(#clip102)\" style=\"stroke:#000000; stroke-linecap:round; stroke-linejoin:round; stroke-width:2; stroke-opacity:0.1; fill:none\" points=\"193.936,1106.33 2352.76,1106.33 \"/>\n",
       "<polyline clip-path=\"url(#clip102)\" style=\"stroke:#000000; stroke-linecap:round; stroke-linejoin:round; stroke-width:2; stroke-opacity:0.1; fill:none\" points=\"193.936,766.875 2352.76,766.875 \"/>\n",
       "<polyline clip-path=\"url(#clip102)\" style=\"stroke:#000000; stroke-linecap:round; stroke-linejoin:round; stroke-width:2; stroke-opacity:0.1; fill:none\" points=\"193.936,427.423 2352.76,427.423 \"/>\n",
       "<polyline clip-path=\"url(#clip102)\" style=\"stroke:#000000; stroke-linecap:round; stroke-linejoin:round; stroke-width:2; stroke-opacity:0.1; fill:none\" points=\"193.936,87.9718 2352.76,87.9718 \"/>\n",
       "<polyline clip-path=\"url(#clip100)\" style=\"stroke:#000000; stroke-linecap:round; stroke-linejoin:round; stroke-width:4; stroke-opacity:1; fill:none\" points=\"193.936,1486.45 2352.76,1486.45 \"/>\n",
       "<polyline clip-path=\"url(#clip100)\" style=\"stroke:#000000; stroke-linecap:round; stroke-linejoin:round; stroke-width:4; stroke-opacity:1; fill:none\" points=\"255.035,1486.45 255.035,1467.55 \"/>\n",
       "<polyline clip-path=\"url(#clip100)\" style=\"stroke:#000000; stroke-linecap:round; stroke-linejoin:round; stroke-width:4; stroke-opacity:1; fill:none\" points=\"579.173,1486.45 579.173,1467.55 \"/>\n",
       "<polyline clip-path=\"url(#clip100)\" style=\"stroke:#000000; stroke-linecap:round; stroke-linejoin:round; stroke-width:4; stroke-opacity:1; fill:none\" points=\"903.312,1486.45 903.312,1467.55 \"/>\n",
       "<polyline clip-path=\"url(#clip100)\" style=\"stroke:#000000; stroke-linecap:round; stroke-linejoin:round; stroke-width:4; stroke-opacity:1; fill:none\" points=\"1227.45,1486.45 1227.45,1467.55 \"/>\n",
       "<polyline clip-path=\"url(#clip100)\" style=\"stroke:#000000; stroke-linecap:round; stroke-linejoin:round; stroke-width:4; stroke-opacity:1; fill:none\" points=\"1551.59,1486.45 1551.59,1467.55 \"/>\n",
       "<polyline clip-path=\"url(#clip100)\" style=\"stroke:#000000; stroke-linecap:round; stroke-linejoin:round; stroke-width:4; stroke-opacity:1; fill:none\" points=\"1875.73,1486.45 1875.73,1467.55 \"/>\n",
       "<polyline clip-path=\"url(#clip100)\" style=\"stroke:#000000; stroke-linecap:round; stroke-linejoin:round; stroke-width:4; stroke-opacity:1; fill:none\" points=\"2199.87,1486.45 2199.87,1467.55 \"/>\n",
       "<path clip-path=\"url(#clip100)\" d=\"M255.035 1517.37 Q251.424 1517.37 249.595 1520.93 Q247.789 1524.47 247.789 1531.6 Q247.789 1538.71 249.595 1542.27 Q251.424 1545.82 255.035 1545.82 Q258.669 1545.82 260.474 1542.27 Q262.303 1538.71 262.303 1531.6 Q262.303 1524.47 260.474 1520.93 Q258.669 1517.37 255.035 1517.37 M255.035 1513.66 Q260.845 1513.66 263.9 1518.27 Q266.979 1522.85 266.979 1531.6 Q266.979 1540.33 263.9 1544.94 Q260.845 1549.52 255.035 1549.52 Q249.225 1549.52 246.146 1544.94 Q243.09 1540.33 243.09 1531.6 Q243.09 1522.85 246.146 1518.27 Q249.225 1513.66 255.035 1513.66 Z\" fill=\"#000000\" fill-rule=\"nonzero\" fill-opacity=\"1\" /><path clip-path=\"url(#clip100)\" d=\"M569.555 1544.91 L577.194 1544.91 L577.194 1518.55 L568.884 1520.21 L568.884 1515.95 L577.148 1514.29 L581.824 1514.29 L581.824 1544.91 L589.463 1544.91 L589.463 1548.85 L569.555 1548.85 L569.555 1544.91 Z\" fill=\"#000000\" fill-rule=\"nonzero\" fill-opacity=\"1\" /><path clip-path=\"url(#clip100)\" d=\"M897.965 1544.91 L914.284 1544.91 L914.284 1548.85 L892.34 1548.85 L892.34 1544.91 Q895.002 1542.16 899.585 1537.53 Q904.191 1532.88 905.372 1531.53 Q907.617 1529.01 908.497 1527.27 Q909.4 1525.51 909.4 1523.82 Q909.4 1521.07 907.455 1519.33 Q905.534 1517.6 902.432 1517.6 Q900.233 1517.6 897.779 1518.36 Q895.349 1519.13 892.571 1520.68 L892.571 1515.95 Q895.395 1514.82 897.849 1514.24 Q900.303 1513.66 902.34 1513.66 Q907.71 1513.66 910.904 1516.35 Q914.099 1519.03 914.099 1523.52 Q914.099 1525.65 913.289 1527.57 Q912.502 1529.47 910.395 1532.07 Q909.816 1532.74 906.715 1535.95 Q903.613 1539.15 897.965 1544.91 Z\" fill=\"#000000\" fill-rule=\"nonzero\" fill-opacity=\"1\" /><path clip-path=\"url(#clip100)\" d=\"M1231.7 1530.21 Q1235.05 1530.93 1236.93 1533.2 Q1238.83 1535.47 1238.83 1538.8 Q1238.83 1543.92 1235.31 1546.72 Q1231.79 1549.52 1225.31 1549.52 Q1223.13 1549.52 1220.82 1549.08 Q1218.53 1548.66 1216.07 1547.81 L1216.07 1543.29 Q1218.02 1544.43 1220.33 1545.01 Q1222.65 1545.58 1225.17 1545.58 Q1229.57 1545.58 1231.86 1543.85 Q1234.17 1542.11 1234.17 1538.8 Q1234.17 1535.75 1232.02 1534.03 Q1229.89 1532.3 1226.07 1532.3 L1222.05 1532.3 L1222.05 1528.45 L1226.26 1528.45 Q1229.71 1528.45 1231.54 1527.09 Q1233.36 1525.7 1233.36 1523.11 Q1233.36 1520.45 1231.47 1519.03 Q1229.59 1517.6 1226.07 1517.6 Q1224.15 1517.6 1221.95 1518.01 Q1219.75 1518.43 1217.11 1519.31 L1217.11 1515.14 Q1219.78 1514.4 1222.09 1514.03 Q1224.43 1513.66 1226.49 1513.66 Q1231.81 1513.66 1234.92 1516.09 Q1238.02 1518.5 1238.02 1522.62 Q1238.02 1525.49 1236.37 1527.48 Q1234.73 1529.45 1231.7 1530.21 Z\" fill=\"#000000\" fill-rule=\"nonzero\" fill-opacity=\"1\" /><path clip-path=\"url(#clip100)\" d=\"M1554.6 1518.36 L1542.79 1536.81 L1554.6 1536.81 L1554.6 1518.36 M1553.37 1514.29 L1559.25 1514.29 L1559.25 1536.81 L1564.18 1536.81 L1564.18 1540.7 L1559.25 1540.7 L1559.25 1548.85 L1554.6 1548.85 L1554.6 1540.7 L1539 1540.7 L1539 1536.19 L1553.37 1514.29 Z\" fill=\"#000000\" fill-rule=\"nonzero\" fill-opacity=\"1\" /><path clip-path=\"url(#clip100)\" d=\"M1866.01 1514.29 L1884.36 1514.29 L1884.36 1518.22 L1870.29 1518.22 L1870.29 1526.7 Q1871.31 1526.35 1872.32 1526.19 Q1873.34 1526 1874.36 1526 Q1880.15 1526 1883.53 1529.17 Q1886.91 1532.34 1886.91 1537.76 Q1886.91 1543.34 1883.44 1546.44 Q1879.96 1549.52 1873.64 1549.52 Q1871.47 1549.52 1869.2 1549.15 Q1866.95 1548.78 1864.55 1548.04 L1864.55 1543.34 Q1866.63 1544.47 1868.85 1545.03 Q1871.07 1545.58 1873.55 1545.58 Q1877.56 1545.58 1879.89 1543.48 Q1882.23 1541.37 1882.23 1537.76 Q1882.23 1534.15 1879.89 1532.04 Q1877.56 1529.94 1873.55 1529.94 Q1871.68 1529.94 1869.8 1530.35 Q1867.95 1530.77 1866.01 1531.65 L1866.01 1514.29 Z\" fill=\"#000000\" fill-rule=\"nonzero\" fill-opacity=\"1\" /><path clip-path=\"url(#clip100)\" d=\"M2200.27 1529.7 Q2197.12 1529.7 2195.27 1531.86 Q2193.44 1534.01 2193.44 1537.76 Q2193.44 1541.49 2195.27 1543.66 Q2197.12 1545.82 2200.27 1545.82 Q2203.42 1545.82 2205.25 1543.66 Q2207.1 1541.49 2207.1 1537.76 Q2207.1 1534.01 2205.25 1531.86 Q2203.42 1529.7 2200.27 1529.7 M2209.55 1515.05 L2209.55 1519.31 Q2207.79 1518.48 2205.99 1518.04 Q2204.21 1517.6 2202.45 1517.6 Q2197.82 1517.6 2195.36 1520.72 Q2192.93 1523.85 2192.59 1530.17 Q2193.95 1528.15 2196.01 1527.09 Q2198.07 1526 2200.55 1526 Q2205.76 1526 2208.77 1529.17 Q2211.8 1532.32 2211.8 1537.76 Q2211.8 1543.08 2208.65 1546.3 Q2205.5 1549.52 2200.27 1549.52 Q2194.28 1549.52 2191.1 1544.94 Q2187.93 1540.33 2187.93 1531.6 Q2187.93 1523.41 2191.82 1518.55 Q2195.71 1513.66 2202.26 1513.66 Q2204.02 1513.66 2205.8 1514.01 Q2207.61 1514.36 2209.55 1515.05 Z\" fill=\"#000000\" fill-rule=\"nonzero\" fill-opacity=\"1\" /><polyline clip-path=\"url(#clip100)\" style=\"stroke:#000000; stroke-linecap:round; stroke-linejoin:round; stroke-width:4; stroke-opacity:1; fill:none\" points=\"193.936,1486.45 193.936,47.2441 \"/>\n",
       "<polyline clip-path=\"url(#clip100)\" style=\"stroke:#000000; stroke-linecap:round; stroke-linejoin:round; stroke-width:4; stroke-opacity:1; fill:none\" points=\"193.936,1445.78 212.834,1445.78 \"/>\n",
       "<polyline clip-path=\"url(#clip100)\" style=\"stroke:#000000; stroke-linecap:round; stroke-linejoin:round; stroke-width:4; stroke-opacity:1; fill:none\" points=\"193.936,1106.33 212.834,1106.33 \"/>\n",
       "<polyline clip-path=\"url(#clip100)\" style=\"stroke:#000000; stroke-linecap:round; stroke-linejoin:round; stroke-width:4; stroke-opacity:1; fill:none\" points=\"193.936,766.875 212.834,766.875 \"/>\n",
       "<polyline clip-path=\"url(#clip100)\" style=\"stroke:#000000; stroke-linecap:round; stroke-linejoin:round; stroke-width:4; stroke-opacity:1; fill:none\" points=\"193.936,427.423 212.834,427.423 \"/>\n",
       "<polyline clip-path=\"url(#clip100)\" style=\"stroke:#000000; stroke-linecap:round; stroke-linejoin:round; stroke-width:4; stroke-opacity:1; fill:none\" points=\"193.936,87.9718 212.834,87.9718 \"/>\n",
       "<path clip-path=\"url(#clip100)\" d=\"M50.9921 1446.23 L80.6679 1446.23 L80.6679 1450.16 L50.9921 1450.16 L50.9921 1446.23 Z\" fill=\"#000000\" fill-rule=\"nonzero\" fill-opacity=\"1\" /><path clip-path=\"url(#clip100)\" d=\"M91.5706 1459.12 L99.2095 1459.12 L99.2095 1432.76 L90.8993 1434.42 L90.8993 1430.16 L99.1632 1428.5 L103.839 1428.5 L103.839 1459.12 L111.478 1459.12 L111.478 1463.06 L91.5706 1463.06 L91.5706 1459.12 Z\" fill=\"#000000\" fill-rule=\"nonzero\" fill-opacity=\"1\" /><path clip-path=\"url(#clip100)\" d=\"M120.922 1457.18 L125.807 1457.18 L125.807 1463.06 L120.922 1463.06 L120.922 1457.18 Z\" fill=\"#000000\" fill-rule=\"nonzero\" fill-opacity=\"1\" /><path clip-path=\"url(#clip100)\" d=\"M145.992 1431.58 Q142.381 1431.58 140.552 1435.14 Q138.746 1438.68 138.746 1445.81 Q138.746 1452.92 140.552 1456.48 Q142.381 1460.03 145.992 1460.03 Q149.626 1460.03 151.431 1456.48 Q153.26 1452.92 153.26 1445.81 Q153.26 1438.68 151.431 1435.14 Q149.626 1431.58 145.992 1431.58 M145.992 1427.87 Q151.802 1427.87 154.857 1432.48 Q157.936 1437.06 157.936 1445.81 Q157.936 1454.54 154.857 1459.15 Q151.802 1463.73 145.992 1463.73 Q140.181 1463.73 137.103 1459.15 Q134.047 1454.54 134.047 1445.81 Q134.047 1437.06 137.103 1432.48 Q140.181 1427.87 145.992 1427.87 Z\" fill=\"#000000\" fill-rule=\"nonzero\" fill-opacity=\"1\" /><path clip-path=\"url(#clip100)\" d=\"M51.9875 1106.78 L81.6633 1106.78 L81.6633 1110.71 L51.9875 1110.71 L51.9875 1106.78 Z\" fill=\"#000000\" fill-rule=\"nonzero\" fill-opacity=\"1\" /><path clip-path=\"url(#clip100)\" d=\"M101.756 1092.13 Q98.1447 1092.13 96.316 1095.69 Q94.5104 1099.23 94.5104 1106.36 Q94.5104 1113.47 96.316 1117.03 Q98.1447 1120.57 101.756 1120.57 Q105.39 1120.57 107.196 1117.03 Q109.024 1113.47 109.024 1106.36 Q109.024 1099.23 107.196 1095.69 Q105.39 1092.13 101.756 1092.13 M101.756 1088.42 Q107.566 1088.42 110.621 1093.03 Q113.7 1097.61 113.7 1106.36 Q113.7 1115.09 110.621 1119.69 Q107.566 1124.28 101.756 1124.28 Q95.9456 1124.28 92.8669 1119.69 Q89.8114 1115.09 89.8114 1106.36 Q89.8114 1097.61 92.8669 1093.03 Q95.9456 1088.42 101.756 1088.42 Z\" fill=\"#000000\" fill-rule=\"nonzero\" fill-opacity=\"1\" /><path clip-path=\"url(#clip100)\" d=\"M121.918 1117.73 L126.802 1117.73 L126.802 1123.61 L121.918 1123.61 L121.918 1117.73 Z\" fill=\"#000000\" fill-rule=\"nonzero\" fill-opacity=\"1\" /><path clip-path=\"url(#clip100)\" d=\"M137.033 1089.05 L155.39 1089.05 L155.39 1092.98 L141.316 1092.98 L141.316 1101.45 Q142.334 1101.11 143.353 1100.94 Q144.371 1100.76 145.39 1100.76 Q151.177 1100.76 154.556 1103.93 Q157.936 1107.1 157.936 1112.52 Q157.936 1118.1 154.464 1121.2 Q150.992 1124.28 144.672 1124.28 Q142.496 1124.28 140.228 1123.91 Q137.982 1123.54 135.575 1122.8 L135.575 1118.1 Q137.658 1119.23 139.881 1119.79 Q142.103 1120.34 144.58 1120.34 Q148.584 1120.34 150.922 1118.24 Q153.26 1116.13 153.26 1112.52 Q153.26 1108.91 150.922 1106.8 Q148.584 1104.69 144.58 1104.69 Q142.705 1104.69 140.83 1105.11 Q138.978 1105.53 137.033 1106.41 L137.033 1089.05 Z\" fill=\"#000000\" fill-rule=\"nonzero\" fill-opacity=\"1\" /><path clip-path=\"url(#clip100)\" d=\"M100.76 752.674 Q97.1493 752.674 95.3206 756.239 Q93.515 759.78 93.515 766.91 Q93.515 774.016 95.3206 777.581 Q97.1493 781.123 100.76 781.123 Q104.395 781.123 106.2 777.581 Q108.029 774.016 108.029 766.91 Q108.029 759.78 106.2 756.239 Q104.395 752.674 100.76 752.674 M100.76 748.97 Q106.571 748.97 109.626 753.576 Q112.705 758.16 112.705 766.91 Q112.705 775.637 109.626 780.243 Q106.571 784.826 100.76 784.826 Q94.9502 784.826 91.8715 780.243 Q88.816 775.637 88.816 766.91 Q88.816 758.16 91.8715 753.576 Q94.9502 748.97 100.76 748.97 Z\" fill=\"#000000\" fill-rule=\"nonzero\" fill-opacity=\"1\" /><path clip-path=\"url(#clip100)\" d=\"M120.922 778.275 L125.807 778.275 L125.807 784.155 L120.922 784.155 L120.922 778.275 Z\" fill=\"#000000\" fill-rule=\"nonzero\" fill-opacity=\"1\" /><path clip-path=\"url(#clip100)\" d=\"M145.992 752.674 Q142.381 752.674 140.552 756.239 Q138.746 759.78 138.746 766.91 Q138.746 774.016 140.552 777.581 Q142.381 781.123 145.992 781.123 Q149.626 781.123 151.431 777.581 Q153.26 774.016 153.26 766.91 Q153.26 759.78 151.431 756.239 Q149.626 752.674 145.992 752.674 M145.992 748.97 Q151.802 748.97 154.857 753.576 Q157.936 758.16 157.936 766.91 Q157.936 775.637 154.857 780.243 Q151.802 784.826 145.992 784.826 Q140.181 784.826 137.103 780.243 Q134.047 775.637 134.047 766.91 Q134.047 758.16 137.103 753.576 Q140.181 748.97 145.992 748.97 Z\" fill=\"#000000\" fill-rule=\"nonzero\" fill-opacity=\"1\" /><path clip-path=\"url(#clip100)\" d=\"M101.756 413.222 Q98.1447 413.222 96.316 416.787 Q94.5104 420.329 94.5104 427.458 Q94.5104 434.565 96.316 438.129 Q98.1447 441.671 101.756 441.671 Q105.39 441.671 107.196 438.129 Q109.024 434.565 109.024 427.458 Q109.024 420.329 107.196 416.787 Q105.39 413.222 101.756 413.222 M101.756 409.518 Q107.566 409.518 110.621 414.125 Q113.7 418.708 113.7 427.458 Q113.7 436.185 110.621 440.791 Q107.566 445.375 101.756 445.375 Q95.9456 445.375 92.8669 440.791 Q89.8114 436.185 89.8114 427.458 Q89.8114 418.708 92.8669 414.125 Q95.9456 409.518 101.756 409.518 Z\" fill=\"#000000\" fill-rule=\"nonzero\" fill-opacity=\"1\" /><path clip-path=\"url(#clip100)\" d=\"M121.918 438.824 L126.802 438.824 L126.802 444.703 L121.918 444.703 L121.918 438.824 Z\" fill=\"#000000\" fill-rule=\"nonzero\" fill-opacity=\"1\" /><path clip-path=\"url(#clip100)\" d=\"M137.033 410.143 L155.39 410.143 L155.39 414.079 L141.316 414.079 L141.316 422.551 Q142.334 422.204 143.353 422.041 Q144.371 421.856 145.39 421.856 Q151.177 421.856 154.556 425.028 Q157.936 428.199 157.936 433.616 Q157.936 439.194 154.464 442.296 Q150.992 445.375 144.672 445.375 Q142.496 445.375 140.228 445.004 Q137.982 444.634 135.575 443.893 L135.575 439.194 Q137.658 440.328 139.881 440.884 Q142.103 441.44 144.58 441.44 Q148.584 441.44 150.922 439.333 Q153.26 437.227 153.26 433.616 Q153.26 430.004 150.922 427.898 Q148.584 425.791 144.58 425.791 Q142.705 425.791 140.83 426.208 Q138.978 426.625 137.033 427.504 L137.033 410.143 Z\" fill=\"#000000\" fill-rule=\"nonzero\" fill-opacity=\"1\" /><path clip-path=\"url(#clip100)\" d=\"M91.5706 101.317 L99.2095 101.317 L99.2095 74.951 L90.8993 76.6177 L90.8993 72.3584 L99.1632 70.6918 L103.839 70.6918 L103.839 101.317 L111.478 101.317 L111.478 105.252 L91.5706 105.252 L91.5706 101.317 Z\" fill=\"#000000\" fill-rule=\"nonzero\" fill-opacity=\"1\" /><path clip-path=\"url(#clip100)\" d=\"M120.922 99.3722 L125.807 99.3722 L125.807 105.252 L120.922 105.252 L120.922 99.3722 Z\" fill=\"#000000\" fill-rule=\"nonzero\" fill-opacity=\"1\" /><path clip-path=\"url(#clip100)\" d=\"M145.992 73.7705 Q142.381 73.7705 140.552 77.3353 Q138.746 80.8769 138.746 88.0065 Q138.746 95.113 140.552 98.6778 Q142.381 102.219 145.992 102.219 Q149.626 102.219 151.431 98.6778 Q153.26 95.113 153.26 88.0065 Q153.26 80.8769 151.431 77.3353 Q149.626 73.7705 145.992 73.7705 M145.992 70.0668 Q151.802 70.0668 154.857 74.6732 Q157.936 79.2566 157.936 88.0065 Q157.936 96.7333 154.857 101.34 Q151.802 105.923 145.992 105.923 Q140.181 105.923 137.103 101.34 Q134.047 96.7333 134.047 88.0065 Q134.047 79.2566 137.103 74.6732 Q140.181 70.0668 145.992 70.0668 Z\" fill=\"#000000\" fill-rule=\"nonzero\" fill-opacity=\"1\" /><polyline clip-path=\"url(#clip102)\" style=\"stroke:#0000ff; stroke-linecap:round; stroke-linejoin:round; stroke-width:4; stroke-opacity:1; fill:none\" points=\"255.035,766.875 260.291,755.866 265.547,744.86 270.804,733.86 276.06,722.868 306.846,658.818 337.632,595.742 368.418,534.208 399.205,474.771 427.848,421.826 456.491,371.572 475.688,339.597 494.884,309.119 514.081,280.247 533.277,253.08 549.139,231.988 565.001,212.176 580.863,193.693 596.726,176.582 611.476,161.937 626.226,148.545 640.976,136.434 655.726,125.627 674.243,113.944 692.76,104.39 711.276,96.9978 729.793,91.7909 746.402,88.9938 763.012,87.9763 779.621,88.741 796.231,91.2859 815.243,96.3751 834.254,103.77 853.266,113.446 872.278,125.369 886.489,135.725 900.701,147.294 914.912,160.054 929.123,173.98 947.3,193.449 965.476,214.72 983.653,237.727 1001.83,262.398 1018.42,286.302 1035.01,311.464 1051.6,337.818 1068.19,365.297 1087.07,397.846 1105.95,431.647 1124.83,466.586 1143.71,502.543 1173.65,561.338 1203.58,621.886 1277.97,776.55 1334.93,895.086 1375.09,976.484 1415.24,1054.67 1445.25,1110.28 1475.26,1162.95 1492.32,1191.41 1509.38,1218.7 1526.44,1244.74 1543.51,1269.45 1560.4,1292.55 1577.3,1314.22 1594.2,1334.41 1611.1,1353.05 1629.69,1371.72 1648.28,1388.4 1666.87,1403.04 1685.46,1415.58 1699.66,1423.73 1713.86,1430.61 1728.06,1436.23 1742.26,1440.55 1760.18,1444.17 1778.1,1445.72 1796.02,1445.19 1813.94,1442.59 1830.51,1438.34 1847.09,1432.35 1863.66,1424.61 1880.23,1415.15 1897.33,1403.62 1914.42,1390.33 1931.51,1375.3 1948.6,1358.57 1965.93,1339.94 1983.25,1319.68 2000.58,1297.83 2017.91,1274.47 2036,1248.53 2054.09,1221.09 2072.18,1192.24 2090.27,1162.06 2118.77,1112.05 2147.27,1059.38 2179.73,996.676 2212.18,931.669 2244.64,865.012 2277.09,797.371 2280.73,789.75 2284.37,782.127 2288.02,774.501 2291.66,766.875 \"/>\n",
       "<polyline clip-path=\"url(#clip102)\" style=\"stroke:#000000; stroke-linecap:round; stroke-linejoin:round; stroke-width:4; stroke-opacity:1; fill:none\" points=\"-1964.88,766.875 4511.58,766.875 \"/>\n",
       "<polyline clip-path=\"url(#clip102)\" style=\"stroke:#000000; stroke-linecap:round; stroke-linejoin:round; stroke-width:4; stroke-opacity:1; fill:none\" stroke-dasharray=\"2, 4\" points=\"1648.83,766.875 1648.83,1388.86 \"/>\n",
       "<polyline clip-path=\"url(#clip102)\" style=\"stroke:#ff0000; stroke-linecap:round; stroke-linejoin:round; stroke-width:4; stroke-opacity:1; fill:none\" points=\"907.899,766.875 1648.83,1388.86 \"/>\n",
       "<circle clip-path=\"url(#clip102)\" cx=\"1648.83\" cy=\"1388.86\" r=\"14.4\" fill=\"#0000ff\" fill-rule=\"evenodd\" fill-opacity=\"1\" stroke=\"#000000\" stroke-opacity=\"1\" stroke-width=\"3.2\"/>\n",
       "<polyline clip-path=\"url(#clip102)\" style=\"stroke:#000000; stroke-linecap:round; stroke-linejoin:round; stroke-width:4; stroke-opacity:1; fill:none\" stroke-dasharray=\"2, 4\" points=\"907.899,766.875 907.899,153.61 \"/>\n",
       "<polyline clip-path=\"url(#clip102)\" style=\"stroke:#ff0000; stroke-linecap:round; stroke-linejoin:round; stroke-width:4; stroke-opacity:1; fill:none\" points=\"1590.46,766.875 907.899,153.61 \"/>\n",
       "<circle clip-path=\"url(#clip102)\" cx=\"907.899\" cy=\"153.61\" r=\"14.4\" fill=\"#0000ff\" fill-rule=\"evenodd\" fill-opacity=\"1\" stroke=\"#000000\" stroke-opacity=\"1\" stroke-width=\"3.2\"/>\n",
       "<polyline clip-path=\"url(#clip102)\" style=\"stroke:#000000; stroke-linecap:round; stroke-linejoin:round; stroke-width:4; stroke-opacity:1; fill:none\" stroke-dasharray=\"2, 4\" points=\"1590.46,766.875 1590.46,1330.07 \"/>\n",
       "<polyline clip-path=\"url(#clip102)\" style=\"stroke:#ff0000; stroke-linecap:round; stroke-linejoin:round; stroke-width:4; stroke-opacity:1; fill:none\" points=\"1108.93,766.875 1590.46,1330.07 \"/>\n",
       "<circle clip-path=\"url(#clip102)\" cx=\"1590.46\" cy=\"1330.07\" r=\"14.4\" fill=\"#0000ff\" fill-rule=\"evenodd\" fill-opacity=\"1\" stroke=\"#000000\" stroke-opacity=\"1\" stroke-width=\"3.2\"/>\n",
       "<polyline clip-path=\"url(#clip102)\" style=\"stroke:#000000; stroke-linecap:round; stroke-linejoin:round; stroke-width:4; stroke-opacity:1; fill:none\" stroke-dasharray=\"2, 4\" points=\"1108.93,766.875 1108.93,437.081 \"/>\n",
       "<polyline clip-path=\"url(#clip102)\" style=\"stroke:#ff0000; stroke-linecap:round; stroke-linejoin:round; stroke-width:4; stroke-opacity:1; fill:none\" points=\"1289.07,766.875 1108.93,437.081 \"/>\n",
       "<circle clip-path=\"url(#clip102)\" cx=\"1108.93\" cy=\"437.081\" r=\"14.4\" fill=\"#0000ff\" fill-rule=\"evenodd\" fill-opacity=\"1\" stroke=\"#000000\" stroke-opacity=\"1\" stroke-width=\"3.2\"/>\n",
       "<polyline clip-path=\"url(#clip102)\" style=\"stroke:#000000; stroke-linecap:round; stroke-linejoin:round; stroke-width:4; stroke-opacity:1; fill:none\" stroke-dasharray=\"2, 4\" points=\"1289.07,766.875 1289.07,799.791 \"/>\n",
       "<polyline clip-path=\"url(#clip102)\" style=\"stroke:#ff0000; stroke-linecap:round; stroke-linejoin:round; stroke-width:4; stroke-opacity:1; fill:none\" points=\"1273.33,766.875 1289.07,799.791 \"/>\n",
       "<circle clip-path=\"url(#clip102)\" cx=\"1289.07\" cy=\"799.791\" r=\"14.4\" fill=\"#0000ff\" fill-rule=\"evenodd\" fill-opacity=\"1\" stroke=\"#000000\" stroke-opacity=\"1\" stroke-width=\"3.2\"/>\n",
       "<polyline clip-path=\"url(#clip102)\" style=\"stroke:#000000; stroke-linecap:round; stroke-linejoin:round; stroke-width:4; stroke-opacity:1; fill:none\" stroke-dasharray=\"2, 4\" points=\"1273.33,766.875 1273.33,766.849 \"/>\n",
       "<polyline clip-path=\"url(#clip102)\" style=\"stroke:#ff0000; stroke-linecap:round; stroke-linejoin:round; stroke-width:4; stroke-opacity:1; fill:none\" points=\"1273.35,766.875 1273.33,766.849 \"/>\n",
       "<circle clip-path=\"url(#clip102)\" cx=\"1273.33\" cy=\"766.849\" r=\"14.4\" fill=\"#0000ff\" fill-rule=\"evenodd\" fill-opacity=\"1\" stroke=\"#000000\" stroke-opacity=\"1\" stroke-width=\"3.2\"/>\n",
       "<polyline clip-path=\"url(#clip102)\" style=\"stroke:#000000; stroke-linecap:round; stroke-linejoin:round; stroke-width:4; stroke-opacity:1; fill:none\" stroke-dasharray=\"2, 4\" points=\"1273.35,766.875 1273.35,766.875 \"/>\n",
       "<polyline clip-path=\"url(#clip102)\" style=\"stroke:#ff0000; stroke-linecap:round; stroke-linejoin:round; stroke-width:4; stroke-opacity:1; fill:none\" points=\"1273.35,766.875 1273.35,766.875 \"/>\n",
       "<circle clip-path=\"url(#clip102)\" cx=\"1273.35\" cy=\"766.875\" r=\"14.4\" fill=\"#0000ff\" fill-rule=\"evenodd\" fill-opacity=\"1\" stroke=\"#000000\" stroke-opacity=\"1\" stroke-width=\"3.2\"/>\n",
       "</svg>\n"
      ]
     },
     "metadata": {},
     "output_type": "display_data"
    },
    {
     "data": {
      "text/plain": [
       "3.141592653589793"
      ]
     },
     "execution_count": 2,
     "metadata": {},
     "output_type": "execute_result"
    }
   ],
   "source": [
    "x = plotnewton(sin, cos, 4.3, 0, 2π)"
   ]
  },
  {
   "cell_type": "markdown",
   "metadata": {},
   "source": [
    "---"
   ]
  },
  {
   "cell_type": "markdown",
   "metadata": {},
   "source": [
    "## Example\n",
    "\n",
    "Let's use the above code to plot Newton's method using \n",
    "\n",
    "$$f(x) = 2\\cosh(x/4) - x,$$\n",
    "\n",
    "which has two roots,\n",
    "\n",
    "$$x_1^* \\approx 2.3575510538774020 \\qquad \\text{and} \\qquad x_2^* \\approx 8.5071995707130270.$$\n",
    "\n",
    "Which root do you converge to starting at $x_0 = 2, 4, 8, 10$?"
   ]
  },
  {
   "cell_type": "code",
   "execution_count": 12,
   "metadata": {},
   "outputs": [
    {
     "name": "stdout",
     "output_type": "stream",
     "text": [
      "   k                      x                   f(x)\n",
      "   1  1.784092985278010e+00  4.181636839433827e-01\n",
      "   2  2.327501256609981e+00  2.073906496874889e-02\n",
      "   3  2.357455221476909e+00  6.592815683026387e-05\n",
      "   4  2.357551052893914e+00  6.765863425073348e-10\n",
      "   5  2.357551053877402e+00  0.000000000000000e+00\n"
     ]
    },
    {
     "data": {
      "image/png": "[encoded data removed]",
      "image/svg+xml": [
       "<?xml version=\"1.0\" encoding=\"utf-8\"?>\n",
       "<svg xmlns=\"http://www.w3.org/2000/svg\" xmlns:xlink=\"http://www.w3.org/1999/xlink\" width=\"600\" height=\"400\" viewBox=\"0 0 2400 1600\">\n",
       "<defs>\n",
       "  <clipPath id=\"clip950\">\n",
       "    <rect x=\"0\" y=\"0\" width=\"2400\" height=\"1600\"/>\n",
       "  </clipPath>\n",
       "</defs>\n",
       "<path clip-path=\"url(#clip950)\" d=\"M0 1600 L2400 1600 L2400 8.88178e-14 L0 8.88178e-14  Z\" fill=\"#ffffff\" fill-rule=\"evenodd\" fill-opacity=\"1\"/>\n",
       "<defs>\n",
       "  <clipPath id=\"clip951\">\n",
       "    <rect x=\"480\" y=\"0\" width=\"1681\" height=\"1600\"/>\n",
       "  </clipPath>\n",
       "</defs>\n",
       "<path clip-path=\"url(#clip950)\" d=\"M147.478 1486.45 L2352.76 1486.45 L2352.76 47.2441 L147.478 47.2441  Z\" fill=\"#ffffff\" fill-rule=\"evenodd\" fill-opacity=\"1\"/>\n",
       "<defs>\n",
       "  <clipPath id=\"clip952\">\n",
       "    <rect x=\"147\" y=\"47\" width=\"2206\" height=\"1440\"/>\n",
       "  </clipPath>\n",
       "</defs>\n",
       "<polyline clip-path=\"url(#clip952)\" style=\"stroke:#000000; stroke-linecap:round; stroke-linejoin:round; stroke-width:2; stroke-opacity:0.1; fill:none\" points=\"209.891,1486.45 209.891,47.2441 \"/>\n",
       "<polyline clip-path=\"url(#clip952)\" style=\"stroke:#000000; stroke-linecap:round; stroke-linejoin:round; stroke-width:2; stroke-opacity:0.1; fill:none\" points=\"682.721,1486.45 682.721,47.2441 \"/>\n",
       "<polyline clip-path=\"url(#clip952)\" style=\"stroke:#000000; stroke-linecap:round; stroke-linejoin:round; stroke-width:2; stroke-opacity:0.1; fill:none\" points=\"1155.55,1486.45 1155.55,47.2441 \"/>\n",
       "<polyline clip-path=\"url(#clip952)\" style=\"stroke:#000000; stroke-linecap:round; stroke-linejoin:round; stroke-width:2; stroke-opacity:0.1; fill:none\" points=\"1628.38,1486.45 1628.38,47.2441 \"/>\n",
       "<polyline clip-path=\"url(#clip952)\" style=\"stroke:#000000; stroke-linecap:round; stroke-linejoin:round; stroke-width:2; stroke-opacity:0.1; fill:none\" points=\"2101.21,1486.45 2101.21,47.2441 \"/>\n",
       "<polyline clip-path=\"url(#clip952)\" style=\"stroke:#000000; stroke-linecap:round; stroke-linejoin:round; stroke-width:2; stroke-opacity:0.1; fill:none\" points=\"147.478,1377.49 2352.76,1377.49 \"/>\n",
       "<polyline clip-path=\"url(#clip952)\" style=\"stroke:#000000; stroke-linecap:round; stroke-linejoin:round; stroke-width:2; stroke-opacity:0.1; fill:none\" points=\"147.478,1151.52 2352.76,1151.52 \"/>\n",
       "<polyline clip-path=\"url(#clip952)\" style=\"stroke:#000000; stroke-linecap:round; stroke-linejoin:round; stroke-width:2; stroke-opacity:0.1; fill:none\" points=\"147.478,925.548 2352.76,925.548 \"/>\n",
       "<polyline clip-path=\"url(#clip952)\" style=\"stroke:#000000; stroke-linecap:round; stroke-linejoin:round; stroke-width:2; stroke-opacity:0.1; fill:none\" points=\"147.478,699.578 2352.76,699.578 \"/>\n",
       "<polyline clip-path=\"url(#clip952)\" style=\"stroke:#000000; stroke-linecap:round; stroke-linejoin:round; stroke-width:2; stroke-opacity:0.1; fill:none\" points=\"147.478,473.608 2352.76,473.608 \"/>\n",
       "<polyline clip-path=\"url(#clip952)\" style=\"stroke:#000000; stroke-linecap:round; stroke-linejoin:round; stroke-width:2; stroke-opacity:0.1; fill:none\" points=\"147.478,247.638 2352.76,247.638 \"/>\n",
       "<polyline clip-path=\"url(#clip950)\" style=\"stroke:#000000; stroke-linecap:round; stroke-linejoin:round; stroke-width:4; stroke-opacity:1; fill:none\" points=\"147.478,1486.45 2352.76,1486.45 \"/>\n",
       "<polyline clip-path=\"url(#clip950)\" style=\"stroke:#000000; stroke-linecap:round; stroke-linejoin:round; stroke-width:4; stroke-opacity:1; fill:none\" points=\"209.891,1486.45 209.891,1467.55 \"/>\n",
       "<polyline clip-path=\"url(#clip950)\" style=\"stroke:#000000; stroke-linecap:round; stroke-linejoin:round; stroke-width:4; stroke-opacity:1; fill:none\" points=\"682.721,1486.45 682.721,1467.55 \"/>\n",
       "<polyline clip-path=\"url(#clip950)\" style=\"stroke:#000000; stroke-linecap:round; stroke-linejoin:round; stroke-width:4; stroke-opacity:1; fill:none\" points=\"1155.55,1486.45 1155.55,1467.55 \"/>\n",
       "<polyline clip-path=\"url(#clip950)\" style=\"stroke:#000000; stroke-linecap:round; stroke-linejoin:round; stroke-width:4; stroke-opacity:1; fill:none\" points=\"1628.38,1486.45 1628.38,1467.55 \"/>\n",
       "<polyline clip-path=\"url(#clip950)\" style=\"stroke:#000000; stroke-linecap:round; stroke-linejoin:round; stroke-width:4; stroke-opacity:1; fill:none\" points=\"2101.21,1486.45 2101.21,1467.55 \"/>\n",
       "<path clip-path=\"url(#clip950)\" d=\"M187.276 1517.37 Q183.665 1517.37 181.836 1520.93 Q180.03 1524.47 180.03 1531.6 Q180.03 1538.71 181.836 1542.27 Q183.665 1545.82 187.276 1545.82 Q190.91 1545.82 192.716 1542.27 Q194.544 1538.71 194.544 1531.6 Q194.544 1524.47 192.716 1520.93 Q190.91 1517.37 187.276 1517.37 M187.276 1513.66 Q193.086 1513.66 196.142 1518.27 Q199.22 1522.85 199.22 1531.6 Q199.22 1540.33 196.142 1544.94 Q193.086 1549.52 187.276 1549.52 Q181.466 1549.52 178.387 1544.94 Q175.331 1540.33 175.331 1531.6 Q175.331 1522.85 178.387 1518.27 Q181.466 1513.66 187.276 1513.66 Z\" fill=\"#000000\" fill-rule=\"nonzero\" fill-opacity=\"1\" /><path clip-path=\"url(#clip950)\" d=\"M207.438 1542.97 L212.322 1542.97 L212.322 1548.85 L207.438 1548.85 L207.438 1542.97 Z\" fill=\"#000000\" fill-rule=\"nonzero\" fill-opacity=\"1\" /><path clip-path=\"url(#clip950)\" d=\"M232.507 1517.37 Q228.896 1517.37 227.067 1520.93 Q225.262 1524.47 225.262 1531.6 Q225.262 1538.71 227.067 1542.27 Q228.896 1545.82 232.507 1545.82 Q236.141 1545.82 237.947 1542.27 Q239.776 1538.71 239.776 1531.6 Q239.776 1524.47 237.947 1520.93 Q236.141 1517.37 232.507 1517.37 M232.507 1513.66 Q238.317 1513.66 241.373 1518.27 Q244.451 1522.85 244.451 1531.6 Q244.451 1540.33 241.373 1544.94 Q238.317 1549.52 232.507 1549.52 Q226.697 1549.52 223.618 1544.94 Q220.563 1540.33 220.563 1531.6 Q220.563 1522.85 223.618 1518.27 Q226.697 1513.66 232.507 1513.66 Z\" fill=\"#000000\" fill-rule=\"nonzero\" fill-opacity=\"1\" /><path clip-path=\"url(#clip950)\" d=\"M654.457 1544.91 L670.777 1544.91 L670.777 1548.85 L648.832 1548.85 L648.832 1544.91 Q651.495 1542.16 656.078 1537.53 Q660.684 1532.88 661.865 1531.53 Q664.11 1529.01 664.99 1527.27 Q665.893 1525.51 665.893 1523.82 Q665.893 1521.07 663.948 1519.33 Q662.027 1517.6 658.925 1517.6 Q656.726 1517.6 654.272 1518.36 Q651.842 1519.13 649.064 1520.68 L649.064 1515.95 Q651.888 1514.82 654.342 1514.24 Q656.795 1513.66 658.832 1513.66 Q664.203 1513.66 667.397 1516.35 Q670.592 1519.03 670.592 1523.52 Q670.592 1525.65 669.781 1527.57 Q668.994 1529.47 666.888 1532.07 Q666.309 1532.74 663.207 1535.95 Q660.106 1539.15 654.457 1544.91 Z\" fill=\"#000000\" fill-rule=\"nonzero\" fill-opacity=\"1\" /><path clip-path=\"url(#clip950)\" d=\"M680.592 1542.97 L685.476 1542.97 L685.476 1548.85 L680.592 1548.85 L680.592 1542.97 Z\" fill=\"#000000\" fill-rule=\"nonzero\" fill-opacity=\"1\" /><path clip-path=\"url(#clip950)\" d=\"M695.707 1514.29 L714.064 1514.29 L714.064 1518.22 L699.99 1518.22 L699.99 1526.7 Q701.008 1526.35 702.027 1526.19 Q703.045 1526 704.064 1526 Q709.851 1526 713.23 1529.17 Q716.61 1532.34 716.61 1537.76 Q716.61 1543.34 713.138 1546.44 Q709.665 1549.52 703.346 1549.52 Q701.17 1549.52 698.902 1549.15 Q696.656 1548.78 694.249 1548.04 L694.249 1543.34 Q696.332 1544.47 698.554 1545.03 Q700.777 1545.58 703.253 1545.58 Q707.258 1545.58 709.596 1543.48 Q711.934 1541.37 711.934 1537.76 Q711.934 1534.15 709.596 1532.04 Q707.258 1529.94 703.253 1529.94 Q701.379 1529.94 699.504 1530.35 Q697.652 1530.77 695.707 1531.65 L695.707 1514.29 Z\" fill=\"#000000\" fill-rule=\"nonzero\" fill-opacity=\"1\" /><path clip-path=\"url(#clip950)\" d=\"M1122.72 1514.29 L1141.07 1514.29 L1141.07 1518.22 L1127 1518.22 L1127 1526.7 Q1128.02 1526.35 1129.03 1526.19 Q1130.05 1526 1131.07 1526 Q1136.86 1526 1140.24 1529.17 Q1143.62 1532.34 1143.62 1537.76 Q1143.62 1543.34 1140.15 1546.44 Q1136.67 1549.52 1130.35 1549.52 Q1128.18 1549.52 1125.91 1549.15 Q1123.66 1548.78 1121.26 1548.04 L1121.26 1543.34 Q1123.34 1544.47 1125.56 1545.03 Q1127.78 1545.58 1130.26 1545.58 Q1134.27 1545.58 1136.6 1543.48 Q1138.94 1541.37 1138.94 1537.76 Q1138.94 1534.15 1136.6 1532.04 Q1134.27 1529.94 1130.26 1529.94 Q1128.39 1529.94 1126.51 1530.35 Q1124.66 1530.77 1122.72 1531.65 L1122.72 1514.29 Z\" fill=\"#000000\" fill-rule=\"nonzero\" fill-opacity=\"1\" /><path clip-path=\"url(#clip950)\" d=\"M1152.83 1542.97 L1157.72 1542.97 L1157.72 1548.85 L1152.83 1548.85 L1152.83 1542.97 Z\" fill=\"#000000\" fill-rule=\"nonzero\" fill-opacity=\"1\" /><path clip-path=\"url(#clip950)\" d=\"M1177.9 1517.37 Q1174.29 1517.37 1172.46 1520.93 Q1170.66 1524.47 1170.66 1531.6 Q1170.66 1538.71 1172.46 1542.27 Q1174.29 1545.82 1177.9 1545.82 Q1181.53 1545.82 1183.34 1542.27 Q1185.17 1538.71 1185.17 1531.6 Q1185.17 1524.47 1183.34 1520.93 Q1181.53 1517.37 1177.9 1517.37 M1177.9 1513.66 Q1183.71 1513.66 1186.77 1518.27 Q1189.84 1522.85 1189.84 1531.6 Q1189.84 1540.33 1186.77 1544.94 Q1183.71 1549.52 1177.9 1549.52 Q1172.09 1549.52 1169.01 1544.94 Q1165.96 1540.33 1165.96 1531.6 Q1165.96 1522.85 1169.01 1518.27 Q1172.09 1513.66 1177.9 1513.66 Z\" fill=\"#000000\" fill-rule=\"nonzero\" fill-opacity=\"1\" /><path clip-path=\"url(#clip950)\" d=\"M1594.7 1514.29 L1616.92 1514.29 L1616.92 1516.28 L1604.38 1548.85 L1599.49 1548.85 L1611.3 1518.22 L1594.7 1518.22 L1594.7 1514.29 Z\" fill=\"#000000\" fill-rule=\"nonzero\" fill-opacity=\"1\" /><path clip-path=\"url(#clip950)\" d=\"M1626.04 1542.97 L1630.93 1542.97 L1630.93 1548.85 L1626.04 1548.85 L1626.04 1542.97 Z\" fill=\"#000000\" fill-rule=\"nonzero\" fill-opacity=\"1\" /><path clip-path=\"url(#clip950)\" d=\"M1641.16 1514.29 L1659.51 1514.29 L1659.51 1518.22 L1645.44 1518.22 L1645.44 1526.7 Q1646.46 1526.35 1647.48 1526.19 Q1648.5 1526 1649.51 1526 Q1655.3 1526 1658.68 1529.17 Q1662.06 1532.34 1662.06 1537.76 Q1662.06 1543.34 1658.59 1546.44 Q1655.12 1549.52 1648.8 1549.52 Q1646.62 1549.52 1644.35 1549.15 Q1642.11 1548.78 1639.7 1548.04 L1639.7 1543.34 Q1641.78 1544.47 1644.01 1545.03 Q1646.23 1545.58 1648.7 1545.58 Q1652.71 1545.58 1655.05 1543.48 Q1657.39 1541.37 1657.39 1537.76 Q1657.39 1534.15 1655.05 1532.04 Q1652.71 1529.94 1648.7 1529.94 Q1646.83 1529.94 1644.95 1530.35 Q1643.1 1530.77 1641.16 1531.65 L1641.16 1514.29 Z\" fill=\"#000000\" fill-rule=\"nonzero\" fill-opacity=\"1\" /><path clip-path=\"url(#clip950)\" d=\"M2053.28 1544.91 L2060.92 1544.91 L2060.92 1518.55 L2052.61 1520.21 L2052.61 1515.95 L2060.88 1514.29 L2065.55 1514.29 L2065.55 1544.91 L2073.19 1544.91 L2073.19 1548.85 L2053.28 1548.85 L2053.28 1544.91 Z\" fill=\"#000000\" fill-rule=\"nonzero\" fill-opacity=\"1\" /><path clip-path=\"url(#clip950)\" d=\"M2092.63 1517.37 Q2089.02 1517.37 2087.19 1520.93 Q2085.39 1524.47 2085.39 1531.6 Q2085.39 1538.71 2087.19 1542.27 Q2089.02 1545.82 2092.63 1545.82 Q2096.27 1545.82 2098.07 1542.27 Q2099.9 1538.71 2099.9 1531.6 Q2099.9 1524.47 2098.07 1520.93 Q2096.27 1517.37 2092.63 1517.37 M2092.63 1513.66 Q2098.44 1513.66 2101.5 1518.27 Q2104.58 1522.85 2104.58 1531.6 Q2104.58 1540.33 2101.5 1544.94 Q2098.44 1549.52 2092.63 1549.52 Q2086.82 1549.52 2083.75 1544.94 Q2080.69 1540.33 2080.69 1531.6 Q2080.69 1522.85 2083.75 1518.27 Q2086.82 1513.66 2092.63 1513.66 Z\" fill=\"#000000\" fill-rule=\"nonzero\" fill-opacity=\"1\" /><path clip-path=\"url(#clip950)\" d=\"M2112.8 1542.97 L2117.68 1542.97 L2117.68 1548.85 L2112.8 1548.85 L2112.8 1542.97 Z\" fill=\"#000000\" fill-rule=\"nonzero\" fill-opacity=\"1\" /><path clip-path=\"url(#clip950)\" d=\"M2137.87 1517.37 Q2134.25 1517.37 2132.43 1520.93 Q2130.62 1524.47 2130.62 1531.6 Q2130.62 1538.71 2132.43 1542.27 Q2134.25 1545.82 2137.87 1545.82 Q2141.5 1545.82 2143.31 1542.27 Q2145.13 1538.71 2145.13 1531.6 Q2145.13 1524.47 2143.31 1520.93 Q2141.5 1517.37 2137.87 1517.37 M2137.87 1513.66 Q2143.68 1513.66 2146.73 1518.27 Q2149.81 1522.85 2149.81 1531.6 Q2149.81 1540.33 2146.73 1544.94 Q2143.68 1549.52 2137.87 1549.52 Q2132.06 1549.52 2128.98 1544.94 Q2125.92 1540.33 2125.92 1531.6 Q2125.92 1522.85 2128.98 1518.27 Q2132.06 1513.66 2137.87 1513.66 Z\" fill=\"#000000\" fill-rule=\"nonzero\" fill-opacity=\"1\" /><polyline clip-path=\"url(#clip950)\" style=\"stroke:#000000; stroke-linecap:round; stroke-linejoin:round; stroke-width:4; stroke-opacity:1; fill:none\" points=\"147.478,1486.45 147.478,47.2441 \"/>\n",
       "<polyline clip-path=\"url(#clip950)\" style=\"stroke:#000000; stroke-linecap:round; stroke-linejoin:round; stroke-width:4; stroke-opacity:1; fill:none\" points=\"147.478,1377.49 166.376,1377.49 \"/>\n",
       "<polyline clip-path=\"url(#clip950)\" style=\"stroke:#000000; stroke-linecap:round; stroke-linejoin:round; stroke-width:4; stroke-opacity:1; fill:none\" points=\"147.478,1151.52 166.376,1151.52 \"/>\n",
       "<polyline clip-path=\"url(#clip950)\" style=\"stroke:#000000; stroke-linecap:round; stroke-linejoin:round; stroke-width:4; stroke-opacity:1; fill:none\" points=\"147.478,925.548 166.376,925.548 \"/>\n",
       "<polyline clip-path=\"url(#clip950)\" style=\"stroke:#000000; stroke-linecap:round; stroke-linejoin:round; stroke-width:4; stroke-opacity:1; fill:none\" points=\"147.478,699.578 166.376,699.578 \"/>\n",
       "<polyline clip-path=\"url(#clip950)\" style=\"stroke:#000000; stroke-linecap:round; stroke-linejoin:round; stroke-width:4; stroke-opacity:1; fill:none\" points=\"147.478,473.608 166.376,473.608 \"/>\n",
       "<polyline clip-path=\"url(#clip950)\" style=\"stroke:#000000; stroke-linecap:round; stroke-linejoin:round; stroke-width:4; stroke-opacity:1; fill:none\" points=\"147.478,247.638 166.376,247.638 \"/>\n",
       "<path clip-path=\"url(#clip950)\" d=\"M50.9921 1377.94 L80.6679 1377.94 L80.6679 1381.87 L50.9921 1381.87 L50.9921 1377.94 Z\" fill=\"#000000\" fill-rule=\"nonzero\" fill-opacity=\"1\" /><path clip-path=\"url(#clip950)\" d=\"M91.5706 1390.83 L99.2095 1390.83 L99.2095 1364.47 L90.8993 1366.13 L90.8993 1361.87 L99.1632 1360.21 L103.839 1360.21 L103.839 1390.83 L111.478 1390.83 L111.478 1394.77 L91.5706 1394.77 L91.5706 1390.83 Z\" fill=\"#000000\" fill-rule=\"nonzero\" fill-opacity=\"1\" /><path clip-path=\"url(#clip950)\" d=\"M99.5335 1137.32 Q95.9224 1137.32 94.0937 1140.88 Q92.2882 1144.42 92.2882 1151.55 Q92.2882 1158.66 94.0937 1162.22 Q95.9224 1165.77 99.5335 1165.77 Q103.168 1165.77 104.973 1162.22 Q106.802 1158.66 106.802 1151.55 Q106.802 1144.42 104.973 1140.88 Q103.168 1137.32 99.5335 1137.32 M99.5335 1133.61 Q105.344 1133.61 108.399 1138.22 Q111.478 1142.8 111.478 1151.55 Q111.478 1160.28 108.399 1164.89 Q105.344 1169.47 99.5335 1169.47 Q93.7234 1169.47 90.6447 1164.89 Q87.5892 1160.28 87.5892 1151.55 Q87.5892 1142.8 90.6447 1138.22 Q93.7234 1133.61 99.5335 1133.61 Z\" fill=\"#000000\" fill-rule=\"nonzero\" fill-opacity=\"1\" /><path clip-path=\"url(#clip950)\" d=\"M91.5706 938.893 L99.2095 938.893 L99.2095 912.527 L90.8993 914.194 L90.8993 909.934 L99.1632 908.268 L103.839 908.268 L103.839 938.893 L111.478 938.893 L111.478 942.828 L91.5706 942.828 L91.5706 938.893 Z\" fill=\"#000000\" fill-rule=\"nonzero\" fill-opacity=\"1\" /><path clip-path=\"url(#clip950)\" d=\"M95.1586 712.923 L111.478 712.923 L111.478 716.858 L89.5336 716.858 L89.5336 712.923 Q92.1956 710.168 96.7789 705.538 Q101.385 700.886 102.566 699.543 Q104.811 697.02 105.691 695.284 Q106.594 693.525 106.594 691.835 Q106.594 689.08 104.649 687.344 Q102.728 685.608 99.6261 685.608 Q97.4271 685.608 94.9734 686.372 Q92.5428 687.136 89.7651 688.687 L89.7651 683.964 Q92.5891 682.83 95.0428 682.251 Q97.4965 681.673 99.5335 681.673 Q104.904 681.673 108.098 684.358 Q111.293 687.043 111.293 691.534 Q111.293 693.663 110.483 695.585 Q109.696 697.483 107.589 700.075 Q107.01 700.747 103.909 703.964 Q100.807 707.159 95.1586 712.923 Z\" fill=\"#000000\" fill-rule=\"nonzero\" fill-opacity=\"1\" /><path clip-path=\"url(#clip950)\" d=\"M104.348 472.254 Q107.705 472.971 109.58 475.24 Q111.478 477.508 111.478 480.841 Q111.478 485.957 107.959 488.758 Q104.441 491.559 97.9595 491.559 Q95.7836 491.559 93.4688 491.119 Q91.1771 490.703 88.7234 489.846 L88.7234 485.332 Q90.6678 486.466 92.9826 487.045 Q95.2974 487.624 97.8206 487.624 Q102.219 487.624 104.51 485.888 Q106.825 484.152 106.825 480.841 Q106.825 477.786 104.672 476.073 Q102.543 474.337 98.7234 474.337 L94.6956 474.337 L94.6956 470.494 L98.9085 470.494 Q102.358 470.494 104.186 469.129 Q106.015 467.74 106.015 465.147 Q106.015 462.485 104.117 461.073 Q102.242 459.638 98.7234 459.638 Q96.8021 459.638 94.603 460.055 Q92.4039 460.471 89.7651 461.351 L89.7651 457.184 Q92.4271 456.443 94.7419 456.073 Q97.0798 455.703 99.14 455.703 Q104.464 455.703 107.566 458.133 Q110.668 460.541 110.668 464.661 Q110.668 467.531 109.024 469.522 Q107.381 471.49 104.348 472.254 Z\" fill=\"#000000\" fill-rule=\"nonzero\" fill-opacity=\"1\" /><path clip-path=\"url(#clip950)\" d=\"M101.895 234.432 L90.0891 252.881 L101.895 252.881 L101.895 234.432 M100.668 230.358 L106.547 230.358 L106.547 252.881 L111.478 252.881 L111.478 256.77 L106.547 256.77 L106.547 264.918 L101.895 264.918 L101.895 256.77 L86.2929 256.77 L86.2929 252.256 L100.668 230.358 Z\" fill=\"#000000\" fill-rule=\"nonzero\" fill-opacity=\"1\" /><polyline clip-path=\"url(#clip952)\" style=\"stroke:#0000ff; stroke-linecap:round; stroke-linejoin:round; stroke-width:4; stroke-opacity:1; fill:none\" points=\"209.891,699.578 231.369,725.057 357.164,866.945 386.424,898.134 415.683,928.629 454.902,968.402 494.121,1006.9 558.936,1067.65 619.206,1120.84 657.036,1152.55 694.866,1182.93 728.8,1209.01 762.734,1233.96 801.576,1261.09 840.418,1286.65 869.452,1304.69 898.487,1321.8 935.622,1342.27 972.757,1361.12 1006.65,1376.84 1040.54,1391.11 1079.12,1405.5 1117.7,1417.86 1148.27,1426.14 1178.85,1433.05 1216.84,1439.62 1254.84,1443.89 1283.93,1445.54 1313.03,1445.72 1354.05,1443.39 1395.07,1437.89 1425.72,1431.63 1456.37,1423.44 1491.23,1411.69 1526.09,1397.25 1560.61,1380.17 1595.14,1360.2 1614.13,1347.94 1633.12,1334.75 1652.11,1320.6 1671.1,1305.47 1700.11,1280.42 1729.12,1252.93 1747.43,1234.3 1765.73,1214.64 1784.04,1193.93 1802.34,1172.14 1819.27,1151.01 1836.2,1128.91 1853.13,1105.83 1870.06,1081.75 1887.52,1055.83 1904.99,1028.8 1922.45,1000.62 1939.91,971.265 1957.6,940.293 1975.3,908.062 1993,874.544 2010.7,839.708 2029.18,801.894 2047.66,762.574 2066.14,721.711 2084.62,679.268 2099.18,644.697 2113.74,609.101 2128.29,572.463 2142.85,534.761 2159.43,490.511 2176.01,444.826 2192.58,397.673 2209.16,349.021 2225.73,298.837 2242.31,247.087 2258.89,193.737 2275.46,138.751 2279.18,126.185 2282.9,113.534 2286.62,100.798 2290.34,87.9763 \"/>\n",
       "<polyline clip-path=\"url(#clip952)\" style=\"stroke:#000000; stroke-linecap:round; stroke-linejoin:round; stroke-width:4; stroke-opacity:1; fill:none\" points=\"-2057.8,1151.52 4558.03,1151.52 \"/>\n",
       "<polyline clip-path=\"url(#clip952)\" style=\"stroke:#000000; stroke-linecap:round; stroke-linejoin:round; stroke-width:4; stroke-opacity:1; fill:none\" stroke-dasharray=\"2, 4\" points=\"966.419,1151.52 966.419,1358.02 \"/>\n",
       "<polyline clip-path=\"url(#clip952)\" style=\"stroke:#ff0000; stroke-linecap:round; stroke-linejoin:round; stroke-width:4; stroke-opacity:1; fill:none\" points=\"547.32,1151.52 966.419,1358.02 \"/>\n",
       "<circle clip-path=\"url(#clip952)\" cx=\"966.419\" cy=\"1358.02\" r=\"14.4\" fill=\"#0000ff\" fill-rule=\"evenodd\" fill-opacity=\"1\" stroke=\"#000000\" stroke-opacity=\"1\" stroke-width=\"3.2\"/>\n",
       "<polyline clip-path=\"url(#clip952)\" style=\"stroke:#000000; stroke-linecap:round; stroke-linejoin:round; stroke-width:4; stroke-opacity:1; fill:none\" stroke-dasharray=\"2, 4\" points=\"547.32,1151.52 547.32,1057.03 \"/>\n",
       "<polyline clip-path=\"url(#clip952)\" style=\"stroke:#ff0000; stroke-linecap:round; stroke-linejoin:round; stroke-width:4; stroke-opacity:1; fill:none\" points=\"650.096,1151.52 547.32,1057.03 \"/>\n",
       "<circle clip-path=\"url(#clip952)\" cx=\"547.32\" cy=\"1057.03\" r=\"14.4\" fill=\"#0000ff\" fill-rule=\"evenodd\" fill-opacity=\"1\" stroke=\"#000000\" stroke-opacity=\"1\" stroke-width=\"3.2\"/>\n",
       "<polyline clip-path=\"url(#clip952)\" style=\"stroke:#000000; stroke-linecap:round; stroke-linejoin:round; stroke-width:4; stroke-opacity:1; fill:none\" stroke-dasharray=\"2, 4\" points=\"650.096,1151.52 650.096,1146.83 \"/>\n",
       "<polyline clip-path=\"url(#clip952)\" style=\"stroke:#ff0000; stroke-linecap:round; stroke-linejoin:round; stroke-width:4; stroke-opacity:1; fill:none\" points=\"655.761,1151.52 650.096,1146.83 \"/>\n",
       "<circle clip-path=\"url(#clip952)\" cx=\"650.096\" cy=\"1146.83\" r=\"14.4\" fill=\"#0000ff\" fill-rule=\"evenodd\" fill-opacity=\"1\" stroke=\"#000000\" stroke-opacity=\"1\" stroke-width=\"3.2\"/>\n",
       "<polyline clip-path=\"url(#clip952)\" style=\"stroke:#000000; stroke-linecap:round; stroke-linejoin:round; stroke-width:4; stroke-opacity:1; fill:none\" stroke-dasharray=\"2, 4\" points=\"655.761,1151.52 655.761,1151.5 \"/>\n",
       "<polyline clip-path=\"url(#clip952)\" style=\"stroke:#ff0000; stroke-linecap:round; stroke-linejoin:round; stroke-width:4; stroke-opacity:1; fill:none\" points=\"655.78,1151.52 655.761,1151.5 \"/>\n",
       "<circle clip-path=\"url(#clip952)\" cx=\"655.761\" cy=\"1151.5\" r=\"14.4\" fill=\"#0000ff\" fill-rule=\"evenodd\" fill-opacity=\"1\" stroke=\"#000000\" stroke-opacity=\"1\" stroke-width=\"3.2\"/>\n",
       "<polyline clip-path=\"url(#clip952)\" style=\"stroke:#000000; stroke-linecap:round; stroke-linejoin:round; stroke-width:4; stroke-opacity:1; fill:none\" stroke-dasharray=\"2, 4\" points=\"655.78,1151.52 655.78,1151.52 \"/>\n",
       "<polyline clip-path=\"url(#clip952)\" style=\"stroke:#ff0000; stroke-linecap:round; stroke-linejoin:round; stroke-width:4; stroke-opacity:1; fill:none\" points=\"655.78,1151.52 655.78,1151.52 \"/>\n",
       "<circle clip-path=\"url(#clip952)\" cx=\"655.78\" cy=\"1151.52\" r=\"14.4\" fill=\"#0000ff\" fill-rule=\"evenodd\" fill-opacity=\"1\" stroke=\"#000000\" stroke-opacity=\"1\" stroke-width=\"3.2\"/>\n",
       "</svg>\n"
      ],
      "text/html": [
       "<?xml version=\"1.0\" encoding=\"utf-8\"?>\n",
       "<svg xmlns=\"http://www.w3.org/2000/svg\" xmlns:xlink=\"http://www.w3.org/1999/xlink\" width=\"600\" height=\"400\" viewBox=\"0 0 2400 1600\">\n",
       "<defs>\n",
       "  <clipPath id=\"clip000\">\n",
       "    <rect x=\"0\" y=\"0\" width=\"2400\" height=\"1600\"/>\n",
       "  </clipPath>\n",
       "</defs>\n",
       "<path clip-path=\"url(#clip000)\" d=\"M0 1600 L2400 1600 L2400 8.88178e-14 L0 8.88178e-14  Z\" fill=\"#ffffff\" fill-rule=\"evenodd\" fill-opacity=\"1\"/>\n",
       "<defs>\n",
       "  <clipPath id=\"clip001\">\n",
       "    <rect x=\"480\" y=\"0\" width=\"1681\" height=\"1600\"/>\n",
       "  </clipPath>\n",
       "</defs>\n",
       "<path clip-path=\"url(#clip000)\" d=\"M147.478 1486.45 L2352.76 1486.45 L2352.76 47.2441 L147.478 47.2441  Z\" fill=\"#ffffff\" fill-rule=\"evenodd\" fill-opacity=\"1\"/>\n",
       "<defs>\n",
       "  <clipPath id=\"clip002\">\n",
       "    <rect x=\"147\" y=\"47\" width=\"2206\" height=\"1440\"/>\n",
       "  </clipPath>\n",
       "</defs>\n",
       "<polyline clip-path=\"url(#clip002)\" style=\"stroke:#000000; stroke-linecap:round; stroke-linejoin:round; stroke-width:2; stroke-opacity:0.1; fill:none\" points=\"209.891,1486.45 209.891,47.2441 \"/>\n",
       "<polyline clip-path=\"url(#clip002)\" style=\"stroke:#000000; stroke-linecap:round; stroke-linejoin:round; stroke-width:2; stroke-opacity:0.1; fill:none\" points=\"682.721,1486.45 682.721,47.2441 \"/>\n",
       "<polyline clip-path=\"url(#clip002)\" style=\"stroke:#000000; stroke-linecap:round; stroke-linejoin:round; stroke-width:2; stroke-opacity:0.1; fill:none\" points=\"1155.55,1486.45 1155.55,47.2441 \"/>\n",
       "<polyline clip-path=\"url(#clip002)\" style=\"stroke:#000000; stroke-linecap:round; stroke-linejoin:round; stroke-width:2; stroke-opacity:0.1; fill:none\" points=\"1628.38,1486.45 1628.38,47.2441 \"/>\n",
       "<polyline clip-path=\"url(#clip002)\" style=\"stroke:#000000; stroke-linecap:round; stroke-linejoin:round; stroke-width:2; stroke-opacity:0.1; fill:none\" points=\"2101.21,1486.45 2101.21,47.2441 \"/>\n",
       "<polyline clip-path=\"url(#clip002)\" style=\"stroke:#000000; stroke-linecap:round; stroke-linejoin:round; stroke-width:2; stroke-opacity:0.1; fill:none\" points=\"147.478,1377.49 2352.76,1377.49 \"/>\n",
       "<polyline clip-path=\"url(#clip002)\" style=\"stroke:#000000; stroke-linecap:round; stroke-linejoin:round; stroke-width:2; stroke-opacity:0.1; fill:none\" points=\"147.478,1151.52 2352.76,1151.52 \"/>\n",
       "<polyline clip-path=\"url(#clip002)\" style=\"stroke:#000000; stroke-linecap:round; stroke-linejoin:round; stroke-width:2; stroke-opacity:0.1; fill:none\" points=\"147.478,925.548 2352.76,925.548 \"/>\n",
       "<polyline clip-path=\"url(#clip002)\" style=\"stroke:#000000; stroke-linecap:round; stroke-linejoin:round; stroke-width:2; stroke-opacity:0.1; fill:none\" points=\"147.478,699.578 2352.76,699.578 \"/>\n",
       "<polyline clip-path=\"url(#clip002)\" style=\"stroke:#000000; stroke-linecap:round; stroke-linejoin:round; stroke-width:2; stroke-opacity:0.1; fill:none\" points=\"147.478,473.608 2352.76,473.608 \"/>\n",
       "<polyline clip-path=\"url(#clip002)\" style=\"stroke:#000000; stroke-linecap:round; stroke-linejoin:round; stroke-width:2; stroke-opacity:0.1; fill:none\" points=\"147.478,247.638 2352.76,247.638 \"/>\n",
       "<polyline clip-path=\"url(#clip000)\" style=\"stroke:#000000; stroke-linecap:round; stroke-linejoin:round; stroke-width:4; stroke-opacity:1; fill:none\" points=\"147.478,1486.45 2352.76,1486.45 \"/>\n",
       "<polyline clip-path=\"url(#clip000)\" style=\"stroke:#000000; stroke-linecap:round; stroke-linejoin:round; stroke-width:4; stroke-opacity:1; fill:none\" points=\"209.891,1486.45 209.891,1467.55 \"/>\n",
       "<polyline clip-path=\"url(#clip000)\" style=\"stroke:#000000; stroke-linecap:round; stroke-linejoin:round; stroke-width:4; stroke-opacity:1; fill:none\" points=\"682.721,1486.45 682.721,1467.55 \"/>\n",
       "<polyline clip-path=\"url(#clip000)\" style=\"stroke:#000000; stroke-linecap:round; stroke-linejoin:round; stroke-width:4; stroke-opacity:1; fill:none\" points=\"1155.55,1486.45 1155.55,1467.55 \"/>\n",
       "<polyline clip-path=\"url(#clip000)\" style=\"stroke:#000000; stroke-linecap:round; stroke-linejoin:round; stroke-width:4; stroke-opacity:1; fill:none\" points=\"1628.38,1486.45 1628.38,1467.55 \"/>\n",
       "<polyline clip-path=\"url(#clip000)\" style=\"stroke:#000000; stroke-linecap:round; stroke-linejoin:round; stroke-width:4; stroke-opacity:1; fill:none\" points=\"2101.21,1486.45 2101.21,1467.55 \"/>\n",
       "<path clip-path=\"url(#clip000)\" d=\"M187.276 1517.37 Q183.665 1517.37 181.836 1520.93 Q180.03 1524.47 180.03 1531.6 Q180.03 1538.71 181.836 1542.27 Q183.665 1545.82 187.276 1545.82 Q190.91 1545.82 192.716 1542.27 Q194.544 1538.71 194.544 1531.6 Q194.544 1524.47 192.716 1520.93 Q190.91 1517.37 187.276 1517.37 M187.276 1513.66 Q193.086 1513.66 196.142 1518.27 Q199.22 1522.85 199.22 1531.6 Q199.22 1540.33 196.142 1544.94 Q193.086 1549.52 187.276 1549.52 Q181.466 1549.52 178.387 1544.94 Q175.331 1540.33 175.331 1531.6 Q175.331 1522.85 178.387 1518.27 Q181.466 1513.66 187.276 1513.66 Z\" fill=\"#000000\" fill-rule=\"nonzero\" fill-opacity=\"1\" /><path clip-path=\"url(#clip000)\" d=\"M207.438 1542.97 L212.322 1542.97 L212.322 1548.85 L207.438 1548.85 L207.438 1542.97 Z\" fill=\"#000000\" fill-rule=\"nonzero\" fill-opacity=\"1\" /><path clip-path=\"url(#clip000)\" d=\"M232.507 1517.37 Q228.896 1517.37 227.067 1520.93 Q225.262 1524.47 225.262 1531.6 Q225.262 1538.71 227.067 1542.27 Q228.896 1545.82 232.507 1545.82 Q236.141 1545.82 237.947 1542.27 Q239.776 1538.71 239.776 1531.6 Q239.776 1524.47 237.947 1520.93 Q236.141 1517.37 232.507 1517.37 M232.507 1513.66 Q238.317 1513.66 241.373 1518.27 Q244.451 1522.85 244.451 1531.6 Q244.451 1540.33 241.373 1544.94 Q238.317 1549.52 232.507 1549.52 Q226.697 1549.52 223.618 1544.94 Q220.563 1540.33 220.563 1531.6 Q220.563 1522.85 223.618 1518.27 Q226.697 1513.66 232.507 1513.66 Z\" fill=\"#000000\" fill-rule=\"nonzero\" fill-opacity=\"1\" /><path clip-path=\"url(#clip000)\" d=\"M654.457 1544.91 L670.777 1544.91 L670.777 1548.85 L648.832 1548.85 L648.832 1544.91 Q651.495 1542.16 656.078 1537.53 Q660.684 1532.88 661.865 1531.53 Q664.11 1529.01 664.99 1527.27 Q665.893 1525.51 665.893 1523.82 Q665.893 1521.07 663.948 1519.33 Q662.027 1517.6 658.925 1517.6 Q656.726 1517.6 654.272 1518.36 Q651.842 1519.13 649.064 1520.68 L649.064 1515.95 Q651.888 1514.82 654.342 1514.24 Q656.795 1513.66 658.832 1513.66 Q664.203 1513.66 667.397 1516.35 Q670.592 1519.03 670.592 1523.52 Q670.592 1525.65 669.781 1527.57 Q668.994 1529.47 666.888 1532.07 Q666.309 1532.74 663.207 1535.95 Q660.106 1539.15 654.457 1544.91 Z\" fill=\"#000000\" fill-rule=\"nonzero\" fill-opacity=\"1\" /><path clip-path=\"url(#clip000)\" d=\"M680.592 1542.97 L685.476 1542.97 L685.476 1548.85 L680.592 1548.85 L680.592 1542.97 Z\" fill=\"#000000\" fill-rule=\"nonzero\" fill-opacity=\"1\" /><path clip-path=\"url(#clip000)\" d=\"M695.707 1514.29 L714.064 1514.29 L714.064 1518.22 L699.99 1518.22 L699.99 1526.7 Q701.008 1526.35 702.027 1526.19 Q703.045 1526 704.064 1526 Q709.851 1526 713.23 1529.17 Q716.61 1532.34 716.61 1537.76 Q716.61 1543.34 713.138 1546.44 Q709.665 1549.52 703.346 1549.52 Q701.17 1549.52 698.902 1549.15 Q696.656 1548.78 694.249 1548.04 L694.249 1543.34 Q696.332 1544.47 698.554 1545.03 Q700.777 1545.58 703.253 1545.58 Q707.258 1545.58 709.596 1543.48 Q711.934 1541.37 711.934 1537.76 Q711.934 1534.15 709.596 1532.04 Q707.258 1529.94 703.253 1529.94 Q701.379 1529.94 699.504 1530.35 Q697.652 1530.77 695.707 1531.65 L695.707 1514.29 Z\" fill=\"#000000\" fill-rule=\"nonzero\" fill-opacity=\"1\" /><path clip-path=\"url(#clip000)\" d=\"M1122.72 1514.29 L1141.07 1514.29 L1141.07 1518.22 L1127 1518.22 L1127 1526.7 Q1128.02 1526.35 1129.03 1526.19 Q1130.05 1526 1131.07 1526 Q1136.86 1526 1140.24 1529.17 Q1143.62 1532.34 1143.62 1537.76 Q1143.62 1543.34 1140.15 1546.44 Q1136.67 1549.52 1130.35 1549.52 Q1128.18 1549.52 1125.91 1549.15 Q1123.66 1548.78 1121.26 1548.04 L1121.26 1543.34 Q1123.34 1544.47 1125.56 1545.03 Q1127.78 1545.58 1130.26 1545.58 Q1134.27 1545.58 1136.6 1543.48 Q1138.94 1541.37 1138.94 1537.76 Q1138.94 1534.15 1136.6 1532.04 Q1134.27 1529.94 1130.26 1529.94 Q1128.39 1529.94 1126.51 1530.35 Q1124.66 1530.77 1122.72 1531.65 L1122.72 1514.29 Z\" fill=\"#000000\" fill-rule=\"nonzero\" fill-opacity=\"1\" /><path clip-path=\"url(#clip000)\" d=\"M1152.83 1542.97 L1157.72 1542.97 L1157.72 1548.85 L1152.83 1548.85 L1152.83 1542.97 Z\" fill=\"#000000\" fill-rule=\"nonzero\" fill-opacity=\"1\" /><path clip-path=\"url(#clip000)\" d=\"M1177.9 1517.37 Q1174.29 1517.37 1172.46 1520.93 Q1170.66 1524.47 1170.66 1531.6 Q1170.66 1538.71 1172.46 1542.27 Q1174.29 1545.82 1177.9 1545.82 Q1181.53 1545.82 1183.34 1542.27 Q1185.17 1538.71 1185.17 1531.6 Q1185.17 1524.47 1183.34 1520.93 Q1181.53 1517.37 1177.9 1517.37 M1177.9 1513.66 Q1183.71 1513.66 1186.77 1518.27 Q1189.84 1522.85 1189.84 1531.6 Q1189.84 1540.33 1186.77 1544.94 Q1183.71 1549.52 1177.9 1549.52 Q1172.09 1549.52 1169.01 1544.94 Q1165.96 1540.33 1165.96 1531.6 Q1165.96 1522.85 1169.01 1518.27 Q1172.09 1513.66 1177.9 1513.66 Z\" fill=\"#000000\" fill-rule=\"nonzero\" fill-opacity=\"1\" /><path clip-path=\"url(#clip000)\" d=\"M1594.7 1514.29 L1616.92 1514.29 L1616.92 1516.28 L1604.38 1548.85 L1599.49 1548.85 L1611.3 1518.22 L1594.7 1518.22 L1594.7 1514.29 Z\" fill=\"#000000\" fill-rule=\"nonzero\" fill-opacity=\"1\" /><path clip-path=\"url(#clip000)\" d=\"M1626.04 1542.97 L1630.93 1542.97 L1630.93 1548.85 L1626.04 1548.85 L1626.04 1542.97 Z\" fill=\"#000000\" fill-rule=\"nonzero\" fill-opacity=\"1\" /><path clip-path=\"url(#clip000)\" d=\"M1641.16 1514.29 L1659.51 1514.29 L1659.51 1518.22 L1645.44 1518.22 L1645.44 1526.7 Q1646.46 1526.35 1647.48 1526.19 Q1648.5 1526 1649.51 1526 Q1655.3 1526 1658.68 1529.17 Q1662.06 1532.34 1662.06 1537.76 Q1662.06 1543.34 1658.59 1546.44 Q1655.12 1549.52 1648.8 1549.52 Q1646.62 1549.52 1644.35 1549.15 Q1642.11 1548.78 1639.7 1548.04 L1639.7 1543.34 Q1641.78 1544.47 1644.01 1545.03 Q1646.23 1545.58 1648.7 1545.58 Q1652.71 1545.58 1655.05 1543.48 Q1657.39 1541.37 1657.39 1537.76 Q1657.39 1534.15 1655.05 1532.04 Q1652.71 1529.94 1648.7 1529.94 Q1646.83 1529.94 1644.95 1530.35 Q1643.1 1530.77 1641.16 1531.65 L1641.16 1514.29 Z\" fill=\"#000000\" fill-rule=\"nonzero\" fill-opacity=\"1\" /><path clip-path=\"url(#clip000)\" d=\"M2053.28 1544.91 L2060.92 1544.91 L2060.92 1518.55 L2052.61 1520.21 L2052.61 1515.95 L2060.88 1514.29 L2065.55 1514.29 L2065.55 1544.91 L2073.19 1544.91 L2073.19 1548.85 L2053.28 1548.85 L2053.28 1544.91 Z\" fill=\"#000000\" fill-rule=\"nonzero\" fill-opacity=\"1\" /><path clip-path=\"url(#clip000)\" d=\"M2092.63 1517.37 Q2089.02 1517.37 2087.19 1520.93 Q2085.39 1524.47 2085.39 1531.6 Q2085.39 1538.71 2087.19 1542.27 Q2089.02 1545.82 2092.63 1545.82 Q2096.27 1545.82 2098.07 1542.27 Q2099.9 1538.71 2099.9 1531.6 Q2099.9 1524.47 2098.07 1520.93 Q2096.27 1517.37 2092.63 1517.37 M2092.63 1513.66 Q2098.44 1513.66 2101.5 1518.27 Q2104.58 1522.85 2104.58 1531.6 Q2104.58 1540.33 2101.5 1544.94 Q2098.44 1549.52 2092.63 1549.52 Q2086.82 1549.52 2083.75 1544.94 Q2080.69 1540.33 2080.69 1531.6 Q2080.69 1522.85 2083.75 1518.27 Q2086.82 1513.66 2092.63 1513.66 Z\" fill=\"#000000\" fill-rule=\"nonzero\" fill-opacity=\"1\" /><path clip-path=\"url(#clip000)\" d=\"M2112.8 1542.97 L2117.68 1542.97 L2117.68 1548.85 L2112.8 1548.85 L2112.8 1542.97 Z\" fill=\"#000000\" fill-rule=\"nonzero\" fill-opacity=\"1\" /><path clip-path=\"url(#clip000)\" d=\"M2137.87 1517.37 Q2134.25 1517.37 2132.43 1520.93 Q2130.62 1524.47 2130.62 1531.6 Q2130.62 1538.71 2132.43 1542.27 Q2134.25 1545.82 2137.87 1545.82 Q2141.5 1545.82 2143.31 1542.27 Q2145.13 1538.71 2145.13 1531.6 Q2145.13 1524.47 2143.31 1520.93 Q2141.5 1517.37 2137.87 1517.37 M2137.87 1513.66 Q2143.68 1513.66 2146.73 1518.27 Q2149.81 1522.85 2149.81 1531.6 Q2149.81 1540.33 2146.73 1544.94 Q2143.68 1549.52 2137.87 1549.52 Q2132.06 1549.52 2128.98 1544.94 Q2125.92 1540.33 2125.92 1531.6 Q2125.92 1522.85 2128.98 1518.27 Q2132.06 1513.66 2137.87 1513.66 Z\" fill=\"#000000\" fill-rule=\"nonzero\" fill-opacity=\"1\" /><polyline clip-path=\"url(#clip000)\" style=\"stroke:#000000; stroke-linecap:round; stroke-linejoin:round; stroke-width:4; stroke-opacity:1; fill:none\" points=\"147.478,1486.45 147.478,47.2441 \"/>\n",
       "<polyline clip-path=\"url(#clip000)\" style=\"stroke:#000000; stroke-linecap:round; stroke-linejoin:round; stroke-width:4; stroke-opacity:1; fill:none\" points=\"147.478,1377.49 166.376,1377.49 \"/>\n",
       "<polyline clip-path=\"url(#clip000)\" style=\"stroke:#000000; stroke-linecap:round; stroke-linejoin:round; stroke-width:4; stroke-opacity:1; fill:none\" points=\"147.478,1151.52 166.376,1151.52 \"/>\n",
       "<polyline clip-path=\"url(#clip000)\" style=\"stroke:#000000; stroke-linecap:round; stroke-linejoin:round; stroke-width:4; stroke-opacity:1; fill:none\" points=\"147.478,925.548 166.376,925.548 \"/>\n",
       "<polyline clip-path=\"url(#clip000)\" style=\"stroke:#000000; stroke-linecap:round; stroke-linejoin:round; stroke-width:4; stroke-opacity:1; fill:none\" points=\"147.478,699.578 166.376,699.578 \"/>\n",
       "<polyline clip-path=\"url(#clip000)\" style=\"stroke:#000000; stroke-linecap:round; stroke-linejoin:round; stroke-width:4; stroke-opacity:1; fill:none\" points=\"147.478,473.608 166.376,473.608 \"/>\n",
       "<polyline clip-path=\"url(#clip000)\" style=\"stroke:#000000; stroke-linecap:round; stroke-linejoin:round; stroke-width:4; stroke-opacity:1; fill:none\" points=\"147.478,247.638 166.376,247.638 \"/>\n",
       "<path clip-path=\"url(#clip000)\" d=\"M50.9921 1377.94 L80.6679 1377.94 L80.6679 1381.87 L50.9921 1381.87 L50.9921 1377.94 Z\" fill=\"#000000\" fill-rule=\"nonzero\" fill-opacity=\"1\" /><path clip-path=\"url(#clip000)\" d=\"M91.5706 1390.83 L99.2095 1390.83 L99.2095 1364.47 L90.8993 1366.13 L90.8993 1361.87 L99.1632 1360.21 L103.839 1360.21 L103.839 1390.83 L111.478 1390.83 L111.478 1394.77 L91.5706 1394.77 L91.5706 1390.83 Z\" fill=\"#000000\" fill-rule=\"nonzero\" fill-opacity=\"1\" /><path clip-path=\"url(#clip000)\" d=\"M99.5335 1137.32 Q95.9224 1137.32 94.0937 1140.88 Q92.2882 1144.42 92.2882 1151.55 Q92.2882 1158.66 94.0937 1162.22 Q95.9224 1165.77 99.5335 1165.77 Q103.168 1165.77 104.973 1162.22 Q106.802 1158.66 106.802 1151.55 Q106.802 1144.42 104.973 1140.88 Q103.168 1137.32 99.5335 1137.32 M99.5335 1133.61 Q105.344 1133.61 108.399 1138.22 Q111.478 1142.8 111.478 1151.55 Q111.478 1160.28 108.399 1164.89 Q105.344 1169.47 99.5335 1169.47 Q93.7234 1169.47 90.6447 1164.89 Q87.5892 1160.28 87.5892 1151.55 Q87.5892 1142.8 90.6447 1138.22 Q93.7234 1133.61 99.5335 1133.61 Z\" fill=\"#000000\" fill-rule=\"nonzero\" fill-opacity=\"1\" /><path clip-path=\"url(#clip000)\" d=\"M91.5706 938.893 L99.2095 938.893 L99.2095 912.527 L90.8993 914.194 L90.8993 909.934 L99.1632 908.268 L103.839 908.268 L103.839 938.893 L111.478 938.893 L111.478 942.828 L91.5706 942.828 L91.5706 938.893 Z\" fill=\"#000000\" fill-rule=\"nonzero\" fill-opacity=\"1\" /><path clip-path=\"url(#clip000)\" d=\"M95.1586 712.923 L111.478 712.923 L111.478 716.858 L89.5336 716.858 L89.5336 712.923 Q92.1956 710.168 96.7789 705.538 Q101.385 700.886 102.566 699.543 Q104.811 697.02 105.691 695.284 Q106.594 693.525 106.594 691.835 Q106.594 689.08 104.649 687.344 Q102.728 685.608 99.6261 685.608 Q97.4271 685.608 94.9734 686.372 Q92.5428 687.136 89.7651 688.687 L89.7651 683.964 Q92.5891 682.83 95.0428 682.251 Q97.4965 681.673 99.5335 681.673 Q104.904 681.673 108.098 684.358 Q111.293 687.043 111.293 691.534 Q111.293 693.663 110.483 695.585 Q109.696 697.483 107.589 700.075 Q107.01 700.747 103.909 703.964 Q100.807 707.159 95.1586 712.923 Z\" fill=\"#000000\" fill-rule=\"nonzero\" fill-opacity=\"1\" /><path clip-path=\"url(#clip000)\" d=\"M104.348 472.254 Q107.705 472.971 109.58 475.24 Q111.478 477.508 111.478 480.841 Q111.478 485.957 107.959 488.758 Q104.441 491.559 97.9595 491.559 Q95.7836 491.559 93.4688 491.119 Q91.1771 490.703 88.7234 489.846 L88.7234 485.332 Q90.6678 486.466 92.9826 487.045 Q95.2974 487.624 97.8206 487.624 Q102.219 487.624 104.51 485.888 Q106.825 484.152 106.825 480.841 Q106.825 477.786 104.672 476.073 Q102.543 474.337 98.7234 474.337 L94.6956 474.337 L94.6956 470.494 L98.9085 470.494 Q102.358 470.494 104.186 469.129 Q106.015 467.74 106.015 465.147 Q106.015 462.485 104.117 461.073 Q102.242 459.638 98.7234 459.638 Q96.8021 459.638 94.603 460.055 Q92.4039 460.471 89.7651 461.351 L89.7651 457.184 Q92.4271 456.443 94.7419 456.073 Q97.0798 455.703 99.14 455.703 Q104.464 455.703 107.566 458.133 Q110.668 460.541 110.668 464.661 Q110.668 467.531 109.024 469.522 Q107.381 471.49 104.348 472.254 Z\" fill=\"#000000\" fill-rule=\"nonzero\" fill-opacity=\"1\" /><path clip-path=\"url(#clip000)\" d=\"M101.895 234.432 L90.0891 252.881 L101.895 252.881 L101.895 234.432 M100.668 230.358 L106.547 230.358 L106.547 252.881 L111.478 252.881 L111.478 256.77 L106.547 256.77 L106.547 264.918 L101.895 264.918 L101.895 256.77 L86.2929 256.77 L86.2929 252.256 L100.668 230.358 Z\" fill=\"#000000\" fill-rule=\"nonzero\" fill-opacity=\"1\" /><polyline clip-path=\"url(#clip002)\" style=\"stroke:#0000ff; stroke-linecap:round; stroke-linejoin:round; stroke-width:4; stroke-opacity:1; fill:none\" points=\"209.891,699.578 231.369,725.057 357.164,866.945 386.424,898.134 415.683,928.629 454.902,968.402 494.121,1006.9 558.936,1067.65 619.206,1120.84 657.036,1152.55 694.866,1182.93 728.8,1209.01 762.734,1233.96 801.576,1261.09 840.418,1286.65 869.452,1304.69 898.487,1321.8 935.622,1342.27 972.757,1361.12 1006.65,1376.84 1040.54,1391.11 1079.12,1405.5 1117.7,1417.86 1148.27,1426.14 1178.85,1433.05 1216.84,1439.62 1254.84,1443.89 1283.93,1445.54 1313.03,1445.72 1354.05,1443.39 1395.07,1437.89 1425.72,1431.63 1456.37,1423.44 1491.23,1411.69 1526.09,1397.25 1560.61,1380.17 1595.14,1360.2 1614.13,1347.94 1633.12,1334.75 1652.11,1320.6 1671.1,1305.47 1700.11,1280.42 1729.12,1252.93 1747.43,1234.3 1765.73,1214.64 1784.04,1193.93 1802.34,1172.14 1819.27,1151.01 1836.2,1128.91 1853.13,1105.83 1870.06,1081.75 1887.52,1055.83 1904.99,1028.8 1922.45,1000.62 1939.91,971.265 1957.6,940.293 1975.3,908.062 1993,874.544 2010.7,839.708 2029.18,801.894 2047.66,762.574 2066.14,721.711 2084.62,679.268 2099.18,644.697 2113.74,609.101 2128.29,572.463 2142.85,534.761 2159.43,490.511 2176.01,444.826 2192.58,397.673 2209.16,349.021 2225.73,298.837 2242.31,247.087 2258.89,193.737 2275.46,138.751 2279.18,126.185 2282.9,113.534 2286.62,100.798 2290.34,87.9763 \"/>\n",
       "<polyline clip-path=\"url(#clip002)\" style=\"stroke:#000000; stroke-linecap:round; stroke-linejoin:round; stroke-width:4; stroke-opacity:1; fill:none\" points=\"-2057.8,1151.52 4558.03,1151.52 \"/>\n",
       "<polyline clip-path=\"url(#clip002)\" style=\"stroke:#000000; stroke-linecap:round; stroke-linejoin:round; stroke-width:4; stroke-opacity:1; fill:none\" stroke-dasharray=\"2, 4\" points=\"966.419,1151.52 966.419,1358.02 \"/>\n",
       "<polyline clip-path=\"url(#clip002)\" style=\"stroke:#ff0000; stroke-linecap:round; stroke-linejoin:round; stroke-width:4; stroke-opacity:1; fill:none\" points=\"547.32,1151.52 966.419,1358.02 \"/>\n",
       "<circle clip-path=\"url(#clip002)\" cx=\"966.419\" cy=\"1358.02\" r=\"14.4\" fill=\"#0000ff\" fill-rule=\"evenodd\" fill-opacity=\"1\" stroke=\"#000000\" stroke-opacity=\"1\" stroke-width=\"3.2\"/>\n",
       "<polyline clip-path=\"url(#clip002)\" style=\"stroke:#000000; stroke-linecap:round; stroke-linejoin:round; stroke-width:4; stroke-opacity:1; fill:none\" stroke-dasharray=\"2, 4\" points=\"547.32,1151.52 547.32,1057.03 \"/>\n",
       "<polyline clip-path=\"url(#clip002)\" style=\"stroke:#ff0000; stroke-linecap:round; stroke-linejoin:round; stroke-width:4; stroke-opacity:1; fill:none\" points=\"650.096,1151.52 547.32,1057.03 \"/>\n",
       "<circle clip-path=\"url(#clip002)\" cx=\"547.32\" cy=\"1057.03\" r=\"14.4\" fill=\"#0000ff\" fill-rule=\"evenodd\" fill-opacity=\"1\" stroke=\"#000000\" stroke-opacity=\"1\" stroke-width=\"3.2\"/>\n",
       "<polyline clip-path=\"url(#clip002)\" style=\"stroke:#000000; stroke-linecap:round; stroke-linejoin:round; stroke-width:4; stroke-opacity:1; fill:none\" stroke-dasharray=\"2, 4\" points=\"650.096,1151.52 650.096,1146.83 \"/>\n",
       "<polyline clip-path=\"url(#clip002)\" style=\"stroke:#ff0000; stroke-linecap:round; stroke-linejoin:round; stroke-width:4; stroke-opacity:1; fill:none\" points=\"655.761,1151.52 650.096,1146.83 \"/>\n",
       "<circle clip-path=\"url(#clip002)\" cx=\"650.096\" cy=\"1146.83\" r=\"14.4\" fill=\"#0000ff\" fill-rule=\"evenodd\" fill-opacity=\"1\" stroke=\"#000000\" stroke-opacity=\"1\" stroke-width=\"3.2\"/>\n",
       "<polyline clip-path=\"url(#clip002)\" style=\"stroke:#000000; stroke-linecap:round; stroke-linejoin:round; stroke-width:4; stroke-opacity:1; fill:none\" stroke-dasharray=\"2, 4\" points=\"655.761,1151.52 655.761,1151.5 \"/>\n",
       "<polyline clip-path=\"url(#clip002)\" style=\"stroke:#ff0000; stroke-linecap:round; stroke-linejoin:round; stroke-width:4; stroke-opacity:1; fill:none\" points=\"655.78,1151.52 655.761,1151.5 \"/>\n",
       "<circle clip-path=\"url(#clip002)\" cx=\"655.761\" cy=\"1151.5\" r=\"14.4\" fill=\"#0000ff\" fill-rule=\"evenodd\" fill-opacity=\"1\" stroke=\"#000000\" stroke-opacity=\"1\" stroke-width=\"3.2\"/>\n",
       "<polyline clip-path=\"url(#clip002)\" style=\"stroke:#000000; stroke-linecap:round; stroke-linejoin:round; stroke-width:4; stroke-opacity:1; fill:none\" stroke-dasharray=\"2, 4\" points=\"655.78,1151.52 655.78,1151.52 \"/>\n",
       "<polyline clip-path=\"url(#clip002)\" style=\"stroke:#ff0000; stroke-linecap:round; stroke-linejoin:round; stroke-width:4; stroke-opacity:1; fill:none\" points=\"655.78,1151.52 655.78,1151.52 \"/>\n",
       "<circle clip-path=\"url(#clip002)\" cx=\"655.78\" cy=\"1151.52\" r=\"14.4\" fill=\"#0000ff\" fill-rule=\"evenodd\" fill-opacity=\"1\" stroke=\"#000000\" stroke-opacity=\"1\" stroke-width=\"3.2\"/>\n",
       "</svg>\n"
      ]
     },
     "metadata": {},
     "output_type": "display_data"
    },
    {
     "data": {
      "text/plain": [
       "2.357551053877402"
      ]
     },
     "execution_count": 12,
     "metadata": {},
     "output_type": "execute_result"
    }
   ],
   "source": [
    "x = plotnewton(\n",
    "    x -> 2cosh(x/4) - x,  # f(x)\n",
    "    x -> .5sinh(x/4) - 1, # f'(x)\n",
    "    4.0, 0, 11)"
   ]
  },
  {
   "cell_type": "markdown",
   "metadata": {},
   "source": [
    "---"
   ]
  },
  {
   "cell_type": "markdown",
   "metadata": {},
   "source": [
    "## Example (The Babylonian method for computing $\\sqrt{a}$)\n",
    "\n",
    "Let $f(x) = x^2 - a$. Newton's method gives us the iteration:\n",
    "\n",
    "$$ x_{k+1} = x_k - \\frac{x_k^2 - a}{2x_k} = \\frac{1}{2}\\left(x_k + \\frac{a}{x_k}\\right).$$\n",
    "\n",
    "This is known as the [Babylonian method](http://en.wikipedia.org/wiki/Methods_of_computing_square_roots#Babylonian_method) for computing square roots. This method only requires addition and division, and converges rapidly."
   ]
  },
  {
   "cell_type": "code",
   "execution_count": 15,
   "metadata": {},
   "outputs": [
    {
     "name": "stdout",
     "output_type": "stream",
     "text": [
      "   k  |xk - √a|\n",
      "   1    2.3e+00\n",
      "   2    5.0e-01\n",
      "   3    3.4e-02\n",
      "   4    1.8e-04\n",
      "   5    5.0e-09\n",
      "   6    4.0e-18\n",
      "   7    2.5e-36\n",
      "   8    9.8e-73\n"
     ]
    },
    {
     "data": {
      "text/plain": [
       "3.162277660168379331998893544432718533719555139325216826857504852792594439615602"
      ]
     },
     "execution_count": 15,
     "metadata": {},
     "output_type": "execute_result"
    }
   ],
   "source": [
    "# Let's do this using BigFloat\n",
    "\n",
    "setprecision(256)\n",
    "a = big\"10.0\"\n",
    "#a = 10.0\n",
    "x = a\n",
    "@printf \"%4s %10s\\n\" \"k\" \"|xk - √a|\"\n",
    "for k = 1:8\n",
    "    x = (x + a/x)/2\n",
    "    @printf \"%4d %10.1e\\n\" k abs(x - sqrt(a))\n",
    "end\n",
    "\n",
    "x"
   ]
  },
  {
   "cell_type": "code",
   "execution_count": 16,
   "metadata": {},
   "outputs": [
    {
     "data": {
      "text/plain": [
       "10.00000000000000000000000000000000000000000000000000000000000000000000000617507"
      ]
     },
     "execution_count": 16,
     "metadata": {},
     "output_type": "execute_result"
    }
   ],
   "source": [
    "x^2"
   ]
  },
  {
   "cell_type": "code",
   "execution_count": 17,
   "metadata": {},
   "outputs": [
    {
     "data": {
      "text/plain": [
       "3.1622776601683795"
      ]
     },
     "execution_count": 17,
     "metadata": {},
     "output_type": "execute_result"
    }
   ],
   "source": [
    "xf64 = Float64(x)"
   ]
  },
  {
   "cell_type": "code",
   "execution_count": 18,
   "metadata": {},
   "outputs": [
    {
     "data": {
      "text/plain": [
       "10.000000000000002"
      ]
     },
     "execution_count": 18,
     "metadata": {},
     "output_type": "execute_result"
    }
   ],
   "source": [
    "xf64^2"
   ]
  },
  {
   "cell_type": "code",
   "execution_count": 20,
   "metadata": {},
   "outputs": [
    {
     "data": {
      "text/plain": [
       "0.0"
      ]
     },
     "execution_count": 20,
     "metadata": {},
     "output_type": "execute_result"
    }
   ],
   "source": [
    "sqrt(10.0) - xf64"
   ]
  },
  {
   "cell_type": "code",
   "execution_count": 21,
   "metadata": {},
   "outputs": [
    {
     "data": {
      "text/plain": [
       "\"0100000000001001010011000101100000111010110110100101101101010011\""
      ]
     },
     "execution_count": 21,
     "metadata": {},
     "output_type": "execute_result"
    }
   ],
   "source": [
    "bitstring(xf64)"
   ]
  },
  {
   "cell_type": "code",
   "execution_count": 22,
   "metadata": {},
   "outputs": [
    {
     "data": {
      "text/plain": [
       "\"0100000000001001010011000101100000111010110110100101101101010011\""
      ]
     },
     "execution_count": 22,
     "metadata": {},
     "output_type": "execute_result"
    }
   ],
   "source": [
    "bitstring(sqrt(10.0))"
   ]
  },
  {
   "cell_type": "markdown",
   "metadata": {},
   "source": [
    "---"
   ]
  },
  {
   "cell_type": "markdown",
   "metadata": {},
   "source": [
    "## Speed of Convergence\n",
    "\n",
    "If $x_k \\to x^*$, we can measure the speed of the convergence as follows.\n",
    "\n",
    "- **Linear convergence** means there is a constant $0 < \\rho < 1$ such that\n",
    "\n",
    "  $$\\left|x_{k+1}-x^*\\right| \\leq \\rho \\left|x_k - x^*\\right|, \\quad \\text{for all $k$ sufficiently large};$$\n",
    "  \n",
    "  that is,\n",
    "  \n",
    "  $$ \\lim_{k \\to \\infty} \\frac{\\left|x_{k+1}-x^*\\right|}{\\left|x_k - x^*\\right|} = \\rho < 1.$$\n",
    "  \n",
    "\n",
    "- **Superlinear convergence** means there is a sequence $\\rho_k \\to 0$ such that\n",
    "\n",
    "  $$\\left|x_{k+1}-x^*\\right| \\leq \\rho_k \\left|x_k - x^*\\right|, \\quad \\text{for all $k$ sufficiently large};$$\n",
    "\n",
    "  that is,\n",
    "  \n",
    "  $$ \\lim_{k \\to \\infty} \\frac{\\left|x_{k+1}-x^*\\right|}{\\left|x_k - x^*\\right|} = 0.$$\n",
    "  \n",
    "\n",
    "- **Quadratic convergence** means there is a constant $M$ such that\n",
    "\n",
    "  $$\\left|x_{k+1}-x^*\\right| \\leq M \\left|x_k - x^*\\right|^2, \\quad \\text{for all $k$ sufficiently large};$$\n",
    "  \n",
    "  that is,\n",
    "  \n",
    "  $$ \\lim_{k \\to \\infty} \\frac{\\left|x_{k+1}-x^*\\right|}{\\left|x_k - x^*\\right|^2} = M < \\infty.$$\n",
    "\n",
    "\n",
    "Note that **quadratic convergence** is an example of **superlinear convergence** with $\\rho_k = M \\left|x_k - x^*\\right|$."
   ]
  },
  {
   "cell_type": "markdown",
   "metadata": {},
   "source": [
    "---"
   ]
  },
  {
   "cell_type": "markdown",
   "metadata": {},
   "source": [
    "> ## Theorem (Quadratic convergence of Newton's Method):\n",
    "Let $f \\in C^2[a,b]$. If $f$ has a root $x^* \\in (a,b)$ such that $f'(x^*) \\neq 0$, then there is a $\\delta > 0$ such that Newton's method **converges quadratically** to $x^*$ from any $x_0 \\in [x^*-\\delta, x^*+\\delta]$."
   ]
  },
  {
   "cell_type": "markdown",
   "metadata": {},
   "source": [
    "## Proof:\n",
    "\n",
    "Since:\n",
    "\n",
    "- $f \\in C^2[a,b]$ \n",
    "- $x^* \\in (a,b)$\n",
    "- $f'(x^*) \\neq 0$\n",
    "\n",
    "there are positive constants $\\delta_1$, $\\varepsilon$, and $M$ such that\n",
    "\n",
    "- $\\left|f'(x)\\right| \\geq \\varepsilon$ \n",
    "- $\\left|f''(x)\\right| \\leq M$\n",
    "\n",
    "for all $x \\in [x^*-\\delta_1, x^*+\\delta_1] \\subset (a,b)$."
   ]
  },
  {
   "cell_type": "markdown",
   "metadata": {},
   "source": [
    "Suppose $x_k \\in [x^*-\\delta_1, x^*+\\delta_1]$. Then, there is a $\\xi_k$ between $x^*$ and $x_k$ such that\n",
    "\n",
    "$$f(x^*) = f(x_k) + f'(x_k) (x^* - x_k) + \\frac{f''(\\xi_k)}{2} (x^* - x_k)^2.$$\n",
    "\n",
    "Using the fact that $f(x^*) = 0$, we have\n",
    "\n",
    "$$0 = f(x_k) + f'(x_k) (x^* - x_k) + \\frac{f''(\\xi_k)}{2} (x^* - x_k)^2.$$\n",
    "\n",
    "Also, $x_{k+1}$ satisfies\n",
    "\n",
    "$$0 = f(x_k) + f'(x_k) (x_{k+1} - x_k).$$\n",
    "\n",
    "Subtracting these equations, we obtain\n",
    "\n",
    "$$0 = f'(x_k) (x^* - x_{k+1}) + \\frac{f''(\\xi_k)}{2} (x^* - x_k)^2.$$"
   ]
  },
  {
   "cell_type": "markdown",
   "metadata": {},
   "source": [
    "Since $f'(x_k) \\ne 0$, we have \n",
    "\n",
    "$$x^* - x_{k+1} = -\\frac{f''(\\xi_k)}{2f'(x_k)} (x^* - x_k)^2.$$\n",
    "\n",
    "Thus,\n",
    "\n",
    "$$\\left|x^* - x_{k+1}\\right| = \\left|\\frac{f''(\\xi_k)}{2f'(x_k)}\\right| \\left|x^* - x_k\\right|^2 \\leq \\frac{M}{2\\varepsilon} \\left|x^* - x_k\\right|^2,$$\n",
    "\n",
    "so if $x_k \\to x^*$, then the **convergence will be quadratic**."
   ]
  },
  {
   "cell_type": "markdown",
   "metadata": {},
   "source": [
    "We just need to find $\\delta > 0$ so that if $x_0 \\in [x^* - \\delta, x^* + \\delta]$, then $x_k \\to x^*$.\n",
    "\n",
    "Let\n",
    "\n",
    "$$\\delta = \\min\\left\\{\\frac{\\varepsilon}{M}, \\delta_1\\right\\}.$$\n",
    "\n",
    "Suppose that $x_k \\in [x^* - \\delta, x^* + \\delta]$. Then\n",
    "\n",
    "$$\n",
    "\\begin{split}\n",
    "\\left|x^* - x_{k+1}\\right| \n",
    "&\\leq \\frac{M}{2\\varepsilon} \\left|x^* - x_k\\right|^2 \\\\\n",
    "&\\leq \\frac{M}{2\\varepsilon} \\delta \\left|x^* - x_k\\right| \\\\\n",
    "&\\leq \\frac{1}{2} \\left|x^* - x_k\\right| \\\\\n",
    "&< \\delta,\n",
    "\\end{split}\n",
    "$$\n",
    "\n",
    "so $x_{k+1} \\in [x^* - \\delta, x^* + \\delta]$ as well. Thus, if $x_0 \\in [x^* - \\delta, x^* + \\delta]$, we have $x_k \\in [x^* - \\delta, x^* + \\delta]$ for $k = 0, 1, 2, \\ldots$. "
   ]
  },
  {
   "cell_type": "markdown",
   "metadata": {},
   "source": [
    "Moreover,\n",
    "\n",
    "$$0 \\leq \\left|x^* - x_k\\right| \\leq \\frac12 \\left|x^* - x_{k-1}\\right| \\leq \\frac14 \\left|x^* - x_{k-2}\\right| \\leq \\cdots \\leq \\frac{1}{2^k} \\left|x^* - x_{0}\\right|.$$\n",
    "\n",
    "Since $\\frac{1}{2^k} \\left|x^* - x_{0}\\right| \\to 0$ as $k \\to \\infty$, we conclude that $x_k \\to x^*$. Thus, if $x_0 \\in [x^* - \\delta, x^* + \\delta]$ then $x_k$ converges to $x^*$ quadratically. $\\blacksquare$"
   ]
  },
  {
   "cell_type": "markdown",
   "metadata": {},
   "source": [
    "---"
   ]
  },
  {
   "cell_type": "markdown",
   "metadata": {},
   "source": [
    "## Pros and cons of Newton's method\n",
    "\n",
    "Pros:\n",
    "\n",
    "1. **Fast to converge:** Newton's method enjoys quadratic convergence near the root when $f'(x^*) \\neq 0$.\n",
    "\n",
    "2. **Generalizes to multiple variables:** Let $\\mathbf{F} \\colon \\mathbb{R}^n \\to \\mathbb{R}^n$. Newton's method for solving \n",
    "   \n",
    "   $$\\mathbf{F}(\\mathbf{x}) = \\mathbf{0}$$ \n",
    "   \n",
    "   (i.e., $n$ nonlinear equations with $n$ unknowns) is\n",
    "\n",
    "   $$ \\mathbf{x}_{k+1} = \\mathbf{x}_k - \\mathbf{J}(\\mathbf{x}_k)^{-1} \\mathbf{F}(\\mathbf{x}_k),$$\n",
    "\n",
    "   where $\\mathbf{J}(\\mathbf{x})$ is the $n \\times n$ **Jacobian** of $\\mathbf{F}$:\n",
    "   \n",
    "   $$\n",
    "   \\mathbf{J}(\\mathbf{x}) = \n",
    "   \\begin{bmatrix}\n",
    "   \\frac{\\partial F_1}{\\partial x_1}& \\cdots &\n",
    "   \\frac{\\partial F_1}{\\partial x_n}\\\\\n",
    "   \\vdots & \\ddots & \\vdots \\\\\n",
    "   \\frac{\\partial F_n}{\\partial x_1}& \\cdots &\n",
    "   \\frac{\\partial F_n}{\\partial x_n}\\\\\n",
    "   \\end{bmatrix}$$\n",
    "\n",
    "\n",
    "Cons:\n",
    "\n",
    "1. **Requires the derivative:** We must give Newton's method both the function $f$ and its derivative $f'$. This may not always be possible or easy.\n",
    "\n",
    "2. **Need to start close to $x^*$:** Newton's method is a **local method**. When $x_0$ is far from $x^*$, Newton's method may not converge to $x^*$, or may require many iterations before quadratic convergence begins.\n"
   ]
  },
  {
   "cell_type": "markdown",
   "metadata": {},
   "source": [
    "---"
   ]
  },
  {
   "cell_type": "markdown",
   "metadata": {},
   "source": [
    "## Secant method\n",
    "\n",
    "Sometimes it is not possible to evaluate the derivative $f'$:\n",
    "\n",
    "- $f'$ is unknown or difficult to obtain\n",
    "- evaluating $f'$ takes too much time\n",
    "\n",
    "Instead, we can use the **secant approximation** of the derivative. When $x_k \\approx x_{k-1}$, we have\n",
    "\n",
    "$$ f'(x_k) \\approx \\frac{f(x_k) - f(x_{k-1})}{x_k - x_{k-1}}.$$\n",
    "\n",
    "Plugging this approximation into the formula for Newton's method, we get:\n",
    "\n",
    "$$x_{k+1} = x_k - \\frac{f(x_k)(x_k - x_{k-1})}{f(x_k) - f(x_{k-1})}$$\n",
    "\n",
    "The secant method is an example of a [quasi-Newton](http://en.wikipedia.org/wiki/Quasi-Newton_method) method since we are replacing $f'$ with an approximation of $f'$.\n",
    "\n",
    "When $f'(x^*) \\neq 0$, the secant method will converge **superlinearly**, so it may not be as fast as Newton's method."
   ]
  },
  {
   "cell_type": "markdown",
   "metadata": {},
   "source": [
    "---"
   ]
  },
  {
   "cell_type": "markdown",
   "metadata": {},
   "source": [
    "## An implementation of the secant method: `plotsecant`"
   ]
  },
  {
   "cell_type": "code",
   "execution_count": null,
   "metadata": {},
   "outputs": [],
   "source": [
    "using Plots, Printf\n",
    "\n",
    "function plotsecant(f, x0, x1, a, b; tol=1e-6, maxiter=10, doplot=true)\n",
    "    \n",
    "    if doplot\n",
    "        plt = plot(f, a, b, color=:blue, label=:none)\n",
    "        hline!([0], color=:black, label=:none)\n",
    "    end\n",
    "    \n",
    "    k = 0\n",
    "    xprev = x0\n",
    "    x = x1\n",
    "    fxprev = f(xprev)\n",
    "    fx = f(x)\n",
    "    \n",
    "    if doplot\n",
    "        plot!([xprev, xprev], [0, fxprev], ls=:dot, c=:black, label=:none)\n",
    "        scatter!([xprev], [fxprev], c=:blue, label=:none)\n",
    "    end\n",
    "    \n",
    "    @printf \"%4s %22s %22s\\n\" \"k\" \"x\" \"f(x)\"\n",
    "    while abs(x - xprev) > tol*(1 + abs(x)) && k < maxiter\n",
    "        k += 1\n",
    "        xnew = x - fx*(x - xprev)/(fx - fxprev)\n",
    "        \n",
    "        # Plotting stuff\n",
    "        if doplot\n",
    "            plot!([x, x], [0, fx], ls=:dot, c=:black, label=:none)\n",
    "            plot!([xnew, xprev, x], [0, fxprev, fx], c=:red, label=:none)\n",
    "            scatter!([xprev], [fxprev], c=:blue, label=:none)\n",
    "        end\n",
    "        \n",
    "        xprev = x\n",
    "        x = xnew\n",
    "        fxprev = f(xprev)\n",
    "        fx = f(x)\n",
    "        @printf \"%4d %22.15e %22.15e\\n\" k x fx\n",
    "    end\n",
    "    flush(stdout)\n",
    "    if doplot\n",
    "        display(plt)\n",
    "    end\n",
    "    \n",
    "    return x\n",
    "end"
   ]
  },
  {
   "cell_type": "markdown",
   "metadata": {},
   "source": [
    "---"
   ]
  },
  {
   "cell_type": "markdown",
   "metadata": {},
   "source": [
    "## Example\n",
    "\n",
    "Let's see how the secant method works on $f(x) = \\sin(x)$."
   ]
  },
  {
   "cell_type": "code",
   "execution_count": null,
   "metadata": {},
   "outputs": [],
   "source": [
    "x = plotsecant(sin, 1.5, 4.3, 0, 2π, maxiter=100)"
   ]
  },
  {
   "cell_type": "markdown",
   "metadata": {},
   "source": [
    "---"
   ]
  },
  {
   "cell_type": "markdown",
   "metadata": {},
   "source": [
    "## Example\n",
    "\n",
    "Recall the example of finding the value of $y_0$ such that the solution $y(t)$ of the ordinary differential equation \n",
    "\n",
    "$$\n",
    "\\frac{dy}{dt} = t - 5 + \\frac{y^2}{100}\n",
    "$$\n",
    "\n",
    "with initial value $y(0) = y_0$ satisfies $y(10) = 20$."
   ]
  },
  {
   "cell_type": "code",
   "execution_count": null,
   "metadata": {},
   "outputs": [],
   "source": [
    "using OrdinaryDiffEq\n",
    "\n",
    "F(y, p, t) = t - 5 + y^2/100\n",
    "\n",
    "function foo(y0)\n",
    "    tspan = (0.0, 10.0)\n",
    "    prob = ODEProblem(F, y0, tspan)\n",
    "    sol = solve(prob, Tsit5())\n",
    "    return sol(10.0)\n",
    "end"
   ]
  },
  {
   "cell_type": "code",
   "execution_count": null,
   "metadata": {},
   "outputs": [],
   "source": [
    "foo(10.0)"
   ]
  },
  {
   "cell_type": "code",
   "execution_count": null,
   "metadata": {},
   "outputs": [],
   "source": [
    "foo(15.0)"
   ]
  },
  {
   "cell_type": "code",
   "execution_count": null,
   "metadata": {},
   "outputs": [],
   "source": [
    "f(y0) = foo(y0) - 20"
   ]
  },
  {
   "cell_type": "code",
   "execution_count": null,
   "metadata": {},
   "outputs": [],
   "source": [
    "f(10.0), f(15.0)"
   ]
  },
  {
   "cell_type": "code",
   "execution_count": null,
   "metadata": {},
   "outputs": [],
   "source": [
    "x = plotsecant(f, 10.0, 15.0, 10, 15, tol=1e-12)"
   ]
  },
  {
   "cell_type": "code",
   "execution_count": null,
   "metadata": {},
   "outputs": [],
   "source": [
    "foo(x)"
   ]
  },
  {
   "cell_type": "markdown",
   "metadata": {},
   "source": [
    "We could also use [Automatic Differentiation (AD)](https://en.wikipedia.org/wiki/Automatic_differentiation) to compute the derivative of the function $f$. This will allow us to use Newton's Method.\n",
    "\n",
    "The package [ForwardDiff.jl](https://github.com/JuliaDiff/ForwardDiff.jl) implements forward-mode AD."
   ]
  },
  {
   "cell_type": "code",
   "execution_count": null,
   "metadata": {},
   "outputs": [],
   "source": [
    "using ForwardDiff"
   ]
  },
  {
   "cell_type": "code",
   "execution_count": null,
   "metadata": {},
   "outputs": [],
   "source": [
    "ForwardDiff.derivative(f, 10.0)"
   ]
  },
  {
   "cell_type": "code",
   "execution_count": null,
   "metadata": {},
   "outputs": [],
   "source": [
    "fp(x) = ForwardDiff.derivative(f, x)"
   ]
  },
  {
   "cell_type": "code",
   "execution_count": null,
   "metadata": {},
   "outputs": [],
   "source": [
    "plotnewton(f, fp, 15.0, 10.0, 15.0)"
   ]
  },
  {
   "cell_type": "markdown",
   "metadata": {},
   "source": [
    "---"
   ]
  },
  {
   "cell_type": "markdown",
   "metadata": {},
   "source": [
    "## The case of a multiple root\n",
    "\n",
    "When $f'(x^*) = 0$, we are no longer guaranteed to obtain superlinear convergence of the secant method, nor quadratic convergence of Newton's method. In this case, both methods will be merely **linearly convergent**.\n",
    "\n",
    "Let's try these methods on the function\n",
    "\n",
    "$$f(x) = x^2$$\n",
    "\n",
    "for which $x^* = 0$ is a root of **multiplicity** 2."
   ]
  },
  {
   "cell_type": "code",
   "execution_count": null,
   "metadata": {},
   "outputs": [],
   "source": [
    "x = plotnewton(x -> x^2, x -> 2x, 4.0, -1, 5, maxiter=100)"
   ]
  },
  {
   "cell_type": "code",
   "execution_count": null,
   "metadata": {},
   "outputs": [],
   "source": [
    "x = plotsecant(x -> x^2, 4.0, 3.0, -1, 5, maxiter=100)"
   ]
  },
  {
   "cell_type": "markdown",
   "metadata": {},
   "source": [
    "---"
   ]
  }
 ],
 "metadata": {
  "kernelspec": {
   "display_name": "Julia 1.11.3",
   "language": "julia",
   "name": "julia-1.11"
  },
  "language_info": {
   "file_extension": ".jl",
   "mimetype": "application/julia",
   "name": "julia",
   "version": "1.11.3"
  }
 },
 "nbformat": 4,
 "nbformat_minor": 4
}
