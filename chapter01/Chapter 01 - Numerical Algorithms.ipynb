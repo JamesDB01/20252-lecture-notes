{
 "cells": [
  {
   "cell_type": "markdown",
   "metadata": {},
   "source": [
    "---\n",
    "# 1.1 Scientific computing\n",
    "---"
   ]
  },
  {
   "cell_type": "markdown",
   "metadata": {},
   "source": [
    "## Motivation\n",
    "\n",
    "- Computers have become a central tool that is used in virtually every discipline:  \n",
    "\n",
    "    - mathematics\n",
    "    - engineering\n",
    "    - physical sciences\n",
    "    - social sciences\n",
    "    - economics\n",
    "    - data science\n",
    "    - ...\n",
    "\n",
    "- In these disciplines, **mathematical models** are used to explore and gain a deeper understanding of complex systems.\n",
    "\n",
    "- There will always be a need for those with the ability to develop and use software that can _efficiently_, _accurately_, and _reliably_ solve mathematical models."
   ]
  },
  {
   "cell_type": "markdown",
   "metadata": {},
   "source": [
    "## Overview\n",
    "\n",
    "In this class, we will learn computational methods (algorithms) for working with _continuous_ mathematical models:\n",
    "    \n",
    "| Chapter | Topic |\n",
    "|:--------:|-------|\n",
    "|  3 | Nonlinear Equations in One Variable |\n",
    "| 10 | Polynomial Interpolation |\n",
    "| 11 | Piecewise Polynomial Interpolation |\n",
    "| 12 | Best Approximation |\n",
    "| 14 | Numerical Differentiation |\n",
    "| 15 | Numerical Integration |\n",
    "| 16 | Differential Equations |"
   ]
  },
  {
   "cell_type": "markdown",
   "metadata": {},
   "source": [
    "## Goals\n",
    "\n",
    "Learning these algorithms will give you the knowledge and skills to solve more complex problems you may encounter in your careers. We will study:\n",
    "\n",
    "1. The theory behind the algorithms (numerical analysis):\n",
    "    - complexity and convergence rate\n",
    "    - problem conditioning and algorithm stability\n",
    "    - accuracy and error bounds\n",
    "    - proofs\n",
    "2. How to choose which method should be used for a particular problem.\n",
    "3. How to implement the method efficiently.\n",
    "    - We will use [Julia](http://julialang.org): \"a high-level, high-performance dynamic programming language for technical computing.\"\n",
    "    - See [Julia benchmarks](http://julialang.org/benchmarks/) for a comparison with various other languages.\n",
    "4. How to evaluate and test your implementation for *efficiency*, *accuracy*, and *robustness*."
   ]
  },
  {
   "cell_type": "markdown",
   "metadata": {},
   "source": [
    "---\n",
    "# Section 1.2: Numerical algorithms and errors\n",
    "---"
   ]
  },
  {
   "cell_type": "markdown",
   "metadata": {},
   "source": [
    "Suppose some quantity $u$ is approximated by $v$. The **absolute error** is measured by\n",
    "\n",
    "$$\n",
    "|u - v|.\n",
    "$$\n",
    "\n",
    "Often, it is better to look at how large $|u-v|$ is compared to $|u|$. If $|u-v|$ is $p$ percent of $|u|$, then \n",
    "\n",
    "$$\n",
    "|u-v| = p|u|.\n",
    "$$ \n",
    "\n",
    "If $u \\ne 0$, then\n",
    "$$\n",
    "p = \\frac{|u-v|}{|u|},\n",
    "$$\n",
    "which is called the **relative error**."
   ]
  },
  {
   "cell_type": "code",
   "execution_count": 1,
   "metadata": {},
   "outputs": [
    {
     "data": {
      "text/plain": [
       "(π, 3.14159)"
      ]
     },
     "execution_count": 1,
     "metadata": {},
     "output_type": "execute_result"
    }
   ],
   "source": [
    "u, v = π, 3.14159\n",
    "#u = π\n",
    "#v = 3.14159"
   ]
  },
  {
   "cell_type": "code",
   "execution_count": 2,
   "metadata": {},
   "outputs": [
    {
     "data": {
      "text/plain": [
       "π = 3.1415926535897..."
      ]
     },
     "execution_count": 2,
     "metadata": {},
     "output_type": "execute_result"
    }
   ],
   "source": [
    "u"
   ]
  },
  {
   "cell_type": "code",
   "execution_count": 3,
   "metadata": {},
   "outputs": [
    {
     "data": {
      "text/plain": [
       "3.14159"
      ]
     },
     "execution_count": 3,
     "metadata": {},
     "output_type": "execute_result"
    }
   ],
   "source": [
    "v"
   ]
  },
  {
   "cell_type": "code",
   "execution_count": 4,
   "metadata": {},
   "outputs": [
    {
     "data": {
      "text/plain": [
       "Irrational{:π}"
      ]
     },
     "execution_count": 4,
     "metadata": {},
     "output_type": "execute_result"
    }
   ],
   "source": [
    "typeof(u)"
   ]
  },
  {
   "cell_type": "code",
   "execution_count": 5,
   "metadata": {},
   "outputs": [
    {
     "data": {
      "text/plain": [
       "Float64"
      ]
     },
     "execution_count": 5,
     "metadata": {},
     "output_type": "execute_result"
    }
   ],
   "source": [
    "typeof(v)"
   ]
  },
  {
   "cell_type": "code",
   "execution_count": 6,
   "metadata": {},
   "outputs": [
    {
     "data": {
      "text/plain": [
       "2.6535897932333796e-6"
      ]
     },
     "execution_count": 6,
     "metadata": {},
     "output_type": "execute_result"
    }
   ],
   "source": [
    "abs(u - v)"
   ]
  },
  {
   "cell_type": "markdown",
   "metadata": {},
   "source": [
    "i.e., $\\approx 2.6 \\times 10^{-6}$"
   ]
  },
  {
   "cell_type": "code",
   "execution_count": 7,
   "metadata": {},
   "outputs": [
    {
     "data": {
      "text/plain": [
       "8.446638650625857e-7"
      ]
     },
     "execution_count": 7,
     "metadata": {},
     "output_type": "execute_result"
    }
   ],
   "source": [
    "p = abs(u - v)/abs(u)"
   ]
  },
  {
   "cell_type": "markdown",
   "metadata": {},
   "source": [
    "i.e., $\\approx 8.4 \\times 10^{-7} = (8.4 \\times 10^{-5})\\%$"
   ]
  },
  {
   "cell_type": "code",
   "execution_count": 8,
   "metadata": {},
   "outputs": [
    {
     "data": {
      "text/plain": [
       "6.0733160846496"
      ]
     },
     "execution_count": 8,
     "metadata": {},
     "output_type": "execute_result"
    }
   ],
   "source": [
    "# Number of digits of accuracy\n",
    "-log10(p)"
   ]
  },
  {
   "cell_type": "code",
   "execution_count": 9,
   "metadata": {},
   "outputs": [
    {
     "name": "stdout",
     "output_type": "stream",
     "text": [
      "search: \u001b[0m\u001b[1ma\u001b[22m\u001b[0m\u001b[1mb\u001b[22m\u001b[0m\u001b[1ms\u001b[22m \u001b[0m\u001b[1ma\u001b[22m\u001b[0m\u001b[1mb\u001b[22m\u001b[0m\u001b[1ms\u001b[22m2 \u001b[0m\u001b[1ma\u001b[22mns \u001b[0m\u001b[1ma\u001b[22ms \u001b[0m\u001b[1ma\u001b[22mcsc \u001b[0m\u001b[1ma\u001b[22mcos \u001b[0m\u001b[1ma\u001b[22mxes\n",
      "\n"
     ]
    },
    {
     "data": {
      "text/latex": [
       "\\begin{verbatim}\n",
       "abs(x)\n",
       "\\end{verbatim}\n",
       "The absolute value of \\texttt{x}.\n",
       "\n",
       "When \\texttt{abs} is applied to signed integers, overflow may occur, resulting in the return of a negative value. This overflow occurs only when \\texttt{abs} is applied to the minimum representable value of a signed integer. That is, when \\texttt{x == typemin(typeof(x))}, \\texttt{abs(x) == x < 0}, not \\texttt{-x} as might be expected.\n",
       "\n",
       "See also: \\href{@ref}{\\texttt{abs2}}, \\href{@ref}{\\texttt{unsigned}}, \\href{@ref}{\\texttt{sign}}.\n",
       "\n",
       "\\section{Examples}\n",
       "\\begin{verbatim}\n",
       "julia> abs(-3)\n",
       "3\n",
       "\n",
       "julia> abs(1 + im)\n",
       "1.4142135623730951\n",
       "\n",
       "julia> abs.(Int8[-128 -127 -126 0 126 127])  # overflow at typemin(Int8)\n",
       "1×6 Matrix{Int8}:\n",
       " -128  127  126  0  126  127\n",
       "\n",
       "julia> maximum(abs, [1, -2, 3, -4])\n",
       "4\n",
       "\\end{verbatim}\n"
      ],
      "text/markdown": [
       "```\n",
       "abs(x)\n",
       "```\n",
       "\n",
       "The absolute value of `x`.\n",
       "\n",
       "When `abs` is applied to signed integers, overflow may occur, resulting in the return of a negative value. This overflow occurs only when `abs` is applied to the minimum representable value of a signed integer. That is, when `x == typemin(typeof(x))`, `abs(x) == x < 0`, not `-x` as might be expected.\n",
       "\n",
       "See also: [`abs2`](@ref), [`unsigned`](@ref), [`sign`](@ref).\n",
       "\n",
       "# Examples\n",
       "\n",
       "```jldoctest\n",
       "julia> abs(-3)\n",
       "3\n",
       "\n",
       "julia> abs(1 + im)\n",
       "1.4142135623730951\n",
       "\n",
       "julia> abs.(Int8[-128 -127 -126 0 126 127])  # overflow at typemin(Int8)\n",
       "1×6 Matrix{Int8}:\n",
       " -128  127  126  0  126  127\n",
       "\n",
       "julia> maximum(abs, [1, -2, 3, -4])\n",
       "4\n",
       "```\n"
      ],
      "text/plain": [
       "\u001b[36m  abs(x)\u001b[39m\n",
       "\n",
       "  The absolute value of \u001b[36mx\u001b[39m.\n",
       "\n",
       "  When \u001b[36mabs\u001b[39m is applied to signed integers, overflow may occur, resulting in the\n",
       "  return of a negative value. This overflow occurs only when \u001b[36mabs\u001b[39m is applied to\n",
       "  the minimum representable value of a signed integer. That is, when \u001b[36mx ==\n",
       "  typemin(typeof(x))\u001b[39m, \u001b[36mabs(x) == x < 0\u001b[39m, not \u001b[36m-x\u001b[39m as might be expected.\n",
       "\n",
       "  See also: \u001b[36mabs2\u001b[39m, \u001b[36munsigned\u001b[39m, \u001b[36msign\u001b[39m.\n",
       "\n",
       "\u001b[1m  Examples\u001b[22m\n",
       "\u001b[1m  ≡≡≡≡≡≡≡≡\u001b[22m\n",
       "\n",
       "\u001b[36m  julia> abs(-3)\u001b[39m\n",
       "\u001b[36m  3\u001b[39m\n",
       "\u001b[36m  \u001b[39m\n",
       "\u001b[36m  julia> abs(1 + im)\u001b[39m\n",
       "\u001b[36m  1.4142135623730951\u001b[39m\n",
       "\u001b[36m  \u001b[39m\n",
       "\u001b[36m  julia> abs.(Int8[-128 -127 -126 0 126 127])  # overflow at typemin(Int8)\u001b[39m\n",
       "\u001b[36m  1×6 Matrix{Int8}:\u001b[39m\n",
       "\u001b[36m   -128  127  126  0  126  127\u001b[39m\n",
       "\u001b[36m  \u001b[39m\n",
       "\u001b[36m  julia> maximum(abs, [1, -2, 3, -4])\u001b[39m\n",
       "\u001b[36m  4\u001b[39m"
      ]
     },
     "execution_count": 9,
     "metadata": {},
     "output_type": "execute_result"
    }
   ],
   "source": [
    "?abs"
   ]
  },
  {
   "cell_type": "markdown",
   "metadata": {},
   "source": [
    "---"
   ]
  },
  {
   "cell_type": "markdown",
   "metadata": {},
   "source": [
    "## Exercise\n",
    "Complete the following table.\n",
    "\n",
    "| $u$ | $v$ | absolute error | relative error |\n",
    "|:---:|:---:|:--------------:|:--------------:|\n",
    "|   1 |  0.99 | 0.01 | 0.01 |\n",
    "|   1 |  1.5  | 0.5 | 0.5 |\n",
    "| 100 | 99.99 | 0.01 | 0.0001 |\n",
    "| 100 | 100.5 | 0.5  | 0.005 |"
   ]
  },
  {
   "cell_type": "code",
   "execution_count": 18,
   "metadata": {},
   "outputs": [
    {
     "data": {
      "text/plain": [
       "0.010000000000000009"
      ]
     },
     "execution_count": 18,
     "metadata": {},
     "output_type": "execute_result"
    }
   ],
   "source": [
    "abs(1 - 0.99)"
   ]
  },
  {
   "cell_type": "code",
   "execution_count": 19,
   "metadata": {},
   "outputs": [
    {
     "data": {
      "text/plain": [
       "0.010000000000000009"
      ]
     },
     "execution_count": 19,
     "metadata": {},
     "output_type": "execute_result"
    }
   ],
   "source": [
    "abs(1 - 0.99)/abs(1)"
   ]
  },
  {
   "cell_type": "code",
   "execution_count": 20,
   "metadata": {},
   "outputs": [
    {
     "data": {
      "text/plain": [
       "0.5"
      ]
     },
     "execution_count": 20,
     "metadata": {},
     "output_type": "execute_result"
    }
   ],
   "source": [
    "abs(1 - 1.5)"
   ]
  },
  {
   "cell_type": "code",
   "execution_count": 21,
   "metadata": {},
   "outputs": [
    {
     "data": {
      "text/plain": [
       "0.5"
      ]
     },
     "execution_count": 21,
     "metadata": {},
     "output_type": "execute_result"
    }
   ],
   "source": [
    "abs(1 - 1.5)/abs(1)"
   ]
  },
  {
   "cell_type": "code",
   "execution_count": 22,
   "metadata": {},
   "outputs": [
    {
     "data": {
      "text/plain": [
       "0.010000000000005116"
      ]
     },
     "execution_count": 22,
     "metadata": {},
     "output_type": "execute_result"
    }
   ],
   "source": [
    "abs(100 - 99.99)"
   ]
  },
  {
   "cell_type": "code",
   "execution_count": 23,
   "metadata": {},
   "outputs": [
    {
     "data": {
      "text/plain": [
       "0.00010000000000005117"
      ]
     },
     "execution_count": 23,
     "metadata": {},
     "output_type": "execute_result"
    }
   ],
   "source": [
    "abs(100 - 99.99)/abs(100)"
   ]
  },
  {
   "cell_type": "code",
   "execution_count": 24,
   "metadata": {},
   "outputs": [
    {
     "data": {
      "text/plain": [
       "0.5"
      ]
     },
     "execution_count": 24,
     "metadata": {},
     "output_type": "execute_result"
    }
   ],
   "source": [
    "abs(100 - 100.5)"
   ]
  },
  {
   "cell_type": "code",
   "execution_count": 25,
   "metadata": {},
   "outputs": [
    {
     "data": {
      "text/plain": [
       "0.005"
      ]
     },
     "execution_count": 25,
     "metadata": {},
     "output_type": "execute_result"
    }
   ],
   "source": [
    "abs(100 - 100.5)/abs(100)"
   ]
  },
  {
   "cell_type": "code",
   "execution_count": 26,
   "metadata": {},
   "outputs": [
    {
     "data": {
      "text/plain": [
       "Float64"
      ]
     },
     "execution_count": 26,
     "metadata": {},
     "output_type": "execute_result"
    }
   ],
   "source": [
    "typeof(99.99)"
   ]
  },
  {
   "cell_type": "markdown",
   "metadata": {},
   "source": [
    "---"
   ]
  },
  {
   "cell_type": "markdown",
   "metadata": {},
   "source": [
    "## Error types\n",
    "\n",
    "1. Errors in mathematical model or in the data\n",
    "2. Approximation errors\n",
    "3. Roundoff errors\n",
    "    - due to the finite precision of real numbers stored on a computer"
   ]
  },
  {
   "cell_type": "markdown",
   "metadata": {},
   "source": [
    "## Approximation Error (approximating the derivative)\n",
    "\n",
    "Consider the formula for the derivative of a differentiable function $f \\colon \\mathbb{R} \\to \\mathbb{R}$ at $x_0$:\n",
    "\n",
    "$$ f'(x_0) = \\lim_{h \\to 0} \\frac{f(x_0 + h) - f(x_0)}{h}.$$\n",
    "\n",
    "It is therefore reasonable to approximate $f'(x_0)$ using\n",
    "\n",
    "$$\\frac{f(x_0 + h) - f(x_0)}{h}$$\n",
    "\n",
    "for some small positive $h$. The error in this approximation is \n",
    "\n",
    "$$\\left|f'(x_0) - \\frac{f(x_0 + h) - f(x_0)}{h}\\right|$$\n",
    "\n",
    "and is called a **discretization error**."
   ]
  },
  {
   "cell_type": "markdown",
   "metadata": {},
   "source": [
    "---"
   ]
  },
  {
   "cell_type": "markdown",
   "metadata": {},
   "source": [
    "## Example\n",
    "\n",
    "Let's computationally examine this approximation error using\n",
    "\n",
    "$$\n",
    "f(x) = \\sin(x) \\quad \\text{and} \\quad x_0 = 1.\n",
    "$$\n",
    "\n",
    "Note that $f'(x) = \\cos(x)$."
   ]
  },
  {
   "cell_type": "code",
   "execution_count": 27,
   "metadata": {},
   "outputs": [
    {
     "data": {
      "text/plain": [
       "f (generic function with 1 method)"
      ]
     },
     "execution_count": 27,
     "metadata": {},
     "output_type": "execute_result"
    }
   ],
   "source": [
    "f(x) = sin(x)"
   ]
  },
  {
   "cell_type": "markdown",
   "metadata": {},
   "source": [
    "Another way to define the function $f$ in Julia:\n",
    "```julia\n",
    "function f(x)\n",
    "    return sin(x)\n",
    "end\n",
    "```"
   ]
  },
  {
   "cell_type": "code",
   "execution_count": 28,
   "metadata": {},
   "outputs": [
    {
     "data": {
      "text/plain": [
       "0.5403023058681398"
      ]
     },
     "execution_count": 28,
     "metadata": {},
     "output_type": "execute_result"
    }
   ],
   "source": [
    "x0 = 1.0\n",
    "fp = cos(x0)"
   ]
  },
  {
   "cell_type": "markdown",
   "metadata": {},
   "source": [
    "Thus \n",
    "\n",
    "$$f'(x_0) = \\cos(1) = 0.5403023058681398\\ldots.$$ \n",
    "\n",
    "Let's write some **Julia** code to approximate this value using \n",
    "\n",
    "$$ \n",
    "f'(x_0) \\approx \\frac{f(x_0 + h) - f(x_0)}{h}\n",
    "$$\n",
    "\n",
    "for $h = 10^{-1},10^{-2},\\ldots,10^{-16}$."
   ]
  },
  {
   "cell_type": "code",
   "execution_count": 67,
   "metadata": {},
   "outputs": [
    {
     "name": "stdout",
     "output_type": "stream",
     "text": [
      "     h                 fpapprox       abserr     relerr   digits\n",
      " 1e-01   4.9736375253538911e-01   4.2939e-02   7.95e-02      1.1\n",
      " 1e-02   5.3608598101186888e-01   4.2163e-03   7.80e-03      2.1\n",
      " 1e-03   5.3988148036032690e-01   4.2083e-04   7.79e-04      3.1\n",
      " 1e-04   5.4026023141862112e-01   4.2074e-05   7.79e-05      4.1\n",
      " 1e-05   5.4029809850586474e-01   4.2074e-06   7.79e-06      5.1\n",
      " 1e-06   5.4030188512133037e-01   4.2075e-07   7.79e-07      6.1\n",
      " 1e-07   5.4030226404044868e-01   4.1828e-08   7.74e-08      7.1\n",
      " 1e-08   5.4030230289825454e-01   2.9699e-09   5.50e-09      8.3\n",
      " 1e-09   5.4030235840940577e-01   5.2541e-08   9.72e-08      7.0\n",
      " 1e-10   5.4030224738710331e-01   5.8481e-08   1.08e-07      7.0\n",
      " 1e-11   5.4030113716407868e-01   1.1687e-06   2.16e-06      5.7\n",
      " 1e-12   5.4034554608506369e-01   4.3240e-05   8.00e-05      4.1\n",
      " 1e-13   5.3956838996782608e-01   7.3392e-04   1.36e-03      2.9\n",
      " 1e-14   5.4400928206632670e-01   3.7070e-03   6.86e-03      2.2\n",
      " 1e-15   5.5511151231257827e-01   1.4809e-02   2.74e-02      1.6\n",
      " 1e-16   0.0000000000000000e+00   5.4030e-01   1.00e+00     -0.0\n"
     ]
    }
   ],
   "source": [
    "using Printf\n",
    "\n",
    "function deriv_approx(f, x0, fp)\n",
    "    @printf(\"%6s %24s %12s %10s %8s\\n\", \"h\", \"fpapprox\", \"abserr\", \"relerr\", \"digits\")\n",
    "\n",
    "    for k in 1:16\n",
    "        h = 10.0^(-k)\n",
    "        fpapprox = (f(x0+h) - f(x0))/h\n",
    "        abserr = abs(fp - fpapprox)\n",
    "        relerr = abserr/abs(fp)\n",
    "        digits = -log10(relerr)\n",
    "        @printf(\"%6.0e %24.16e %12.4e %10.2e %8.1f\\n\", h, fpapprox, abserr, relerr, digits)\n",
    "    end\n",
    "    \n",
    "    return nothing\n",
    "end\n",
    "\n",
    "deriv_approx(f, 1.0, cos(1.0))"
   ]
  },
  {
   "cell_type": "code",
   "execution_count": 55,
   "metadata": {},
   "outputs": [
    {
     "data": {
      "text/plain": [
       "0.5403023058681398"
      ]
     },
     "execution_count": 55,
     "metadata": {},
     "output_type": "execute_result"
    }
   ],
   "source": [
    "fp"
   ]
  },
  {
   "cell_type": "code",
   "execution_count": 61,
   "metadata": {},
   "outputs": [
    {
     "data": {
      "text/plain": [
       "0.0"
      ]
     },
     "execution_count": 61,
     "metadata": {},
     "output_type": "execute_result"
    }
   ],
   "source": [
    "(sin(1.0 + 1e-16) - sin(1.0))/1e-16"
   ]
  },
  {
   "cell_type": "markdown",
   "metadata": {},
   "source": [
    "---"
   ]
  },
  {
   "cell_type": "markdown",
   "metadata": {},
   "source": [
    " ## Theorem: (Taylor Series)\n",
    "\n",
    "Assume that $f$ is a function that is $(k+1)$-differentiable on an interval containing $x_0$ and $x_0 + h$. Then\n",
    "\n",
    "$$\n",
    "f(x_0 + h) = f(x_0) + h f'(x_0) + \\frac{h^2}{2} f''(x_0) + \\cdots + \\frac{h^k}{k!} f^{(k)}(x_0) + \\frac{h^{k+1}}{(k+1)!} f^{(k+1)}(\\xi),\n",
    "$$\n",
    "\n",
    "for some $\\xi \\in (x_0, x_0 + h)$."
   ]
  },
  {
   "cell_type": "markdown",
   "metadata": {},
   "source": [
    "### Proof that the discretization error decreases at the same rate as $h$:\n",
    "\n",
    "Solving for $f'(x_0)$ in the Taylor series expansion, we get\n",
    "\n",
    "$$\n",
    "f'(x_0) = \\frac{f(x_0+h)-f(x_0)}{h} - \\left(\\frac{h}{2} f''(x_0) + \\frac{h^2}{6} f'''(x_0)  + \\cdots + \\frac{h^{k-1}}{k!} f^{(k)}(\\xi)\\right).\n",
    "$$\n",
    "\n",
    "Therefore,\n",
    "\n",
    "$$\n",
    "\\left|f'(x_0) - \\frac{f(x_0+h)-f(x_0)}{h}\\right| = \\left|\\frac{h}{2} f''(x_0) + \\frac{h^2}{6} f'''(x_0) + \\cdots + \\frac{h^{k-1}}{k!} f^{(k)}(\\xi)\\right|.\n",
    "$$\n",
    "\n",
    "If $f''(x_0) \\neq 0$ and $h$ is small, then the right-hand-side is dominated by $\\frac{h}{2} f''(x_0)$. Thus,\n",
    "\n",
    "$$\n",
    "\\left|f'(x_0) - \\frac{f(x_0+h)-f(x_0)}{h}\\right| \\approx \\frac{h}{2}\\left| f''(x_0)\\right| = \\mathcal{O}(h). \\quad \\blacksquare\n",
    "$$\n",
    "\n",
    "(See p. 7 of Ascher-Greif for the rigorous definitions of Big-$\\mathcal{O}$ and $\\Theta$ notation)."
   ]
  },
  {
   "cell_type": "markdown",
   "metadata": {},
   "source": [
    "## Example continued...\n",
    "\n",
    "Recall that $f(x) = \\sin(x)$. Thus $f''(x) = -\\sin(x)$."
   ]
  },
  {
   "cell_type": "code",
   "execution_count": 68,
   "metadata": {},
   "outputs": [
    {
     "data": {
      "text/plain": [
       "0.42073549240394825"
      ]
     },
     "execution_count": 68,
     "metadata": {},
     "output_type": "execute_result"
    }
   ],
   "source": [
    "fpp = -sin(x0)\n",
    "\n",
    "abs(fpp)/2"
   ]
  },
  {
   "cell_type": "markdown",
   "metadata": {},
   "source": [
    "Therefore, \n",
    "$$\n",
    "\\frac{\\left|f''(x_0)\\right|}{2} = 0.42073549240394825\\ldots,\n",
    "$$\n",
    "which agrees very well with our numerical test."
   ]
  },
  {
   "cell_type": "markdown",
   "metadata": {},
   "source": [
    "---"
   ]
  },
  {
   "cell_type": "markdown",
   "metadata": {},
   "source": [
    "## Exercise\n",
    "\n",
    "What do you think will happen if $f''(x_0) = 0$? Write code to test your hypothesis."
   ]
  },
  {
   "cell_type": "code",
   "execution_count": 71,
   "metadata": {},
   "outputs": [
    {
     "data": {
      "text/plain": [
       "-0.0"
      ]
     },
     "execution_count": 71,
     "metadata": {},
     "output_type": "execute_result"
    }
   ],
   "source": [
    "-sin(π)"
   ]
  },
  {
   "cell_type": "code",
   "execution_count": 72,
   "metadata": {},
   "outputs": [
    {
     "data": {
      "text/plain": [
       "-1.0"
      ]
     },
     "execution_count": 72,
     "metadata": {},
     "output_type": "execute_result"
    }
   ],
   "source": [
    "fp = cos(π)"
   ]
  },
  {
   "cell_type": "code",
   "execution_count": 73,
   "metadata": {},
   "outputs": [
    {
     "name": "stdout",
     "output_type": "stream",
     "text": [
      "     h                 fpapprox       abserr     relerr   digits\n",
      " 1e-01  -9.9833416646828110e-01   1.6658e-03   1.67e-03      2.8\n",
      " 1e-02  -9.9998333341663281e-01   1.6667e-05   1.67e-05      4.8\n",
      " 1e-03  -9.9999983333310904e-01   1.6667e-07   1.67e-07      6.8\n",
      " 1e-04  -9.9999999833421893e-01   1.6658e-09   1.67e-09      8.8\n",
      " 1e-05  -9.9999999997763800e-01   2.2362e-11   2.24e-11     10.7\n",
      " 1e-06  -1.0000000000171467e+00   1.7147e-11   1.71e-11     10.8\n",
      " 1e-07  -9.9999999713877274e-01   2.8612e-09   2.86e-09      8.5\n",
      " 1e-08  -9.9999998167606097e-01   1.8324e-08   1.83e-08      7.7\n",
      " 1e-09  -9.9999996027569105e-01   3.9724e-08   3.97e-08      7.4\n",
      " 1e-10  -9.9999885809357181e-01   1.1419e-06   1.14e-06      5.9\n",
      " 1e-11  -9.9998783627237964e-01   1.2164e-05   1.22e-05      4.9\n",
      " 1e-12  -9.9996643590242629e-01   3.3564e-05   3.36e-05      4.5\n",
      " 1e-13  -9.9797607536349353e-01   2.0239e-03   2.02e-03      2.7\n",
      " 1e-14  -1.0091587146636705e+00   9.1587e-03   9.16e-03      2.0\n",
      " 1e-15  -7.6571373978538981e-01   2.3429e-01   2.34e-01      0.6\n",
      " 1e-16   1.2246467991473533e+00   2.2246e+00   2.22e+00     -0.3\n"
     ]
    }
   ],
   "source": [
    "deriv_approx(f, π, -1.0)"
   ]
  },
  {
   "cell_type": "markdown",
   "metadata": {},
   "source": [
    "---"
   ]
  },
  {
   "cell_type": "markdown",
   "metadata": {},
   "source": [
    "## Roundoff Error\n",
    "\n",
    "Numbers are stored in the computer using a finite precision representation. Roughly 16 digits of precision are possible using the 64-bit floating point format.\n",
    "\n",
    "Whenever an arithmetic operation takes place, the result must be rounded to roughly 16 digits of precision. Such an error is called **roundoff error**.\n",
    "\n",
    "We can see the effect of roundoff error in our example when $h$ is very small."
   ]
  },
  {
   "cell_type": "markdown",
   "metadata": {},
   "source": [
    "---"
   ]
  },
  {
   "cell_type": "markdown",
   "metadata": {},
   "source": [
    "## Exercise\n",
    "\n",
    "Use the [Plots.jl](https://github.com/JuliaPlots/Plots.jl) package to make a plot of $h$ versus the absolute error in this approximation. What do you observe? Why is this happening?"
   ]
  },
  {
   "cell_type": "code",
   "execution_count": null,
   "metadata": {},
   "outputs": [],
   "source": [
    "using Plots"
   ]
  },
  {
   "cell_type": "markdown",
   "metadata": {},
   "source": [
    "---\n",
    "# 1.3 Algorithm properties\n",
    "---"
   ]
  },
  {
   "cell_type": "markdown",
   "metadata": {},
   "source": [
    "## Accuracy\n",
    "\n",
    "As we have seen above, it is easy to write *mathematically correct* code that produces very inaccurate results.\n",
    "\n",
    "Accuracy is affected by the following two conditions:\n",
    "\n",
    "1. **Problem conditioning**  \n",
    "    Some problems are highly sensitive to small changes in the input: we call such problems **ill-conditioned**. A problem that is not sensitive to small changes in the input is called **well-conditioned**. For example, computing $\\tan(x)$ for $x$ near $\\pi/2$ is an ill-conditioned problem (**Example 1.5** in Ascher-Greif).\n",
    "2. **Algorithm stability**  \n",
    "    An algorithm is called **stable** if it is guaranteed to produce an exact answer to a *slightly perturbed problem*. (**Example 1.6** in Ascher-Greif gives an example of an **unstable algorithm**)."
   ]
  },
  {
   "cell_type": "markdown",
   "metadata": {},
   "source": [
    "---"
   ]
  },
  {
   "cell_type": "markdown",
   "metadata": {},
   "source": [
    "## Exercise\n",
    "\n",
    "Let \n",
    "\n",
    "$$ y_n = \\int_0^1 \\frac{x^n}{x + 10} dx. $$\n",
    "\n",
    "Then \n",
    "\n",
    "$$\n",
    "y_n + 10y_{n-1} = \\int_0^1 \\frac{x^n + 10x^{n-1}}{x + 10} dx = \\int_0^1 x^{n-1} dx = \\frac{1}{n}x^n \\Big\\rvert_0^1 = \\frac1n\n",
    "$$\n",
    "\n",
    "and\n",
    "\n",
    "$$\n",
    "y_0 = \\int_0^1 \\frac{1}{x + 10} dx = \\ln|x+10| \\Big\\rvert_0^1 = \\ln(11) - \\ln(10).\n",
    "$$\n",
    "\n",
    "Then use these formulas to numerically compute $y_{30}$."
   ]
  },
  {
   "cell_type": "code",
   "execution_count": null,
   "metadata": {},
   "outputs": [],
   "source": [
    "n = 30\n",
    "plot(x -> x^n/(x+10), 0, 1)"
   ]
  },
  {
   "cell_type": "code",
   "execution_count": null,
   "metadata": {},
   "outputs": [],
   "source": [
    "using QuadGK\n",
    "\n",
    "n = 30\n",
    "integral, error = quadgk(x -> x^n/(x + 10), 0, 1)"
   ]
  },
  {
   "cell_type": "code",
   "execution_count": null,
   "metadata": {},
   "outputs": [],
   "source": []
  },
  {
   "cell_type": "markdown",
   "metadata": {},
   "source": [
    "This algorithm is *very* **unstable**."
   ]
  },
  {
   "cell_type": "markdown",
   "metadata": {},
   "source": [
    "---"
   ]
  },
  {
   "cell_type": "markdown",
   "metadata": {},
   "source": [
    "## Efficiency\n",
    "\n",
    "Efficiency of a code is affected by many factors:\n",
    "\n",
    "1. the rate of convergence of the method\n",
    "2. the number of arithmetic operations performed\n",
    "3. how the data in memory is accessed\n",
    "\n",
    "(See **Example 1.4** in Ascher-Greif for an efficient algorithm for evaluating polynomials: **Horner's rule**.)"
   ]
  },
  {
   "cell_type": "markdown",
   "metadata": {},
   "source": [
    "---"
   ]
  },
  {
   "cell_type": "markdown",
   "metadata": {},
   "source": [
    "## Robustness (Reliability)\n",
    "\n",
    "We want to ensure that our code works under *all possible inputs*, and generates the clear warnings when it is not possible to produce an accurate result for some input."
   ]
  },
  {
   "cell_type": "markdown",
   "metadata": {},
   "source": [
    "---"
   ]
  }
 ],
 "metadata": {
  "anaconda-cloud": {},
  "kernelspec": {
   "display_name": "Julia 1.11.2",
   "language": "julia",
   "name": "julia-1.11"
  },
  "language_info": {
   "file_extension": ".jl",
   "mimetype": "application/julia",
   "name": "julia",
   "version": "1.11.2"
  }
 },
 "nbformat": 4,
 "nbformat_minor": 4
}
